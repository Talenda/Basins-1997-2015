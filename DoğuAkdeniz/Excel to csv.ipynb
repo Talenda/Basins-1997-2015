{
 "cells": [
  {
   "cell_type": "code",
   "execution_count": 1,
   "id": "8a49ca30",
   "metadata": {},
   "outputs": [],
   "source": [
    "import pandas as pd"
   ]
  },
  {
   "cell_type": "code",
   "execution_count": 2,
   "id": "02a5223e",
   "metadata": {},
   "outputs": [],
   "source": [
    "df = pd.read_excel('Stations_DoğuAkdeniz.xlsx')"
   ]
  },
  {
   "cell_type": "code",
   "execution_count": 3,
   "id": "6b7419bf",
   "metadata": {},
   "outputs": [],
   "source": [
    "df.to_csv('Stations_DoğuAkdeniz.csv')"
   ]
  },
  {
   "cell_type": "code",
   "execution_count": null,
   "id": "8052a8ea",
   "metadata": {},
   "outputs": [],
   "source": []
  }
 ],
 "metadata": {
  "kernelspec": {
   "display_name": "Python 3 (ipykernel)",
   "language": "python",
   "name": "python3"
  },
  "language_info": {
   "codemirror_mode": {
    "name": "ipython",
    "version": 3
   },
   "file_extension": ".py",
   "mimetype": "text/x-python",
   "name": "python",
   "nbconvert_exporter": "python",
   "pygments_lexer": "ipython3",
   "version": "3.9.7"
  }
 },
 "nbformat": 4,
 "nbformat_minor": 5
}
