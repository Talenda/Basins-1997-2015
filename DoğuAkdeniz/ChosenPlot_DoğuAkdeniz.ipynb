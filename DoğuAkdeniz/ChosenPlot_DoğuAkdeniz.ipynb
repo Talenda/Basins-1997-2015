{
 "cells": [
  {
   "cell_type": "code",
   "execution_count": 1,
   "id": "e681efe0",
   "metadata": {},
   "outputs": [],
   "source": [
    "import pandas as pd\n",
    "import xarray as xr\n",
    "import numpy as np\n",
    "from random import sample\n",
    "import matplotlib\n",
    "import matplotlib.pyplot as plot\n",
    "from matplotlib import dates as mdates\n",
    "\n",
    "%matplotlib inline"
   ]
  },
  {
   "cell_type": "markdown",
   "id": "925dd19c",
   "metadata": {},
   "source": [
    "![purple-divider](https://user-images.githubusercontent.com/7065401/52071927-c1cd7100-2562-11e9-908a-dde91ba14e59.png)"
   ]
  },
  {
   "cell_type": "code",
   "execution_count": 2,
   "id": "42a2e836",
   "metadata": {},
   "outputs": [],
   "source": [
    "# hg: Hydrograph\n",
    "hg_efas=pd.read_excel('Selection/efas_DoğuAkdeniz.xlsx')\n",
    "hg_agi=pd.read_excel('Selection/agi_DoğuAkdeniz.xlsx')\n",
    "stations=pd.read_excel('Selection/stations_DoğuAkdeniz.xlsx')"
   ]
  },
  {
   "cell_type": "code",
   "execution_count": 3,
   "id": "4d1b4992",
   "metadata": {},
   "outputs": [],
   "source": [
    "hg_agi=hg_agi.set_index('datetime')\n",
    "hg_efas=hg_efas.set_index(\"Historical_times\")"
   ]
  },
  {
   "cell_type": "markdown",
   "id": "51cae534",
   "metadata": {},
   "source": [
    "# Loop for Graphs"
   ]
  },
  {
   "cell_type": "code",
   "execution_count": 4,
   "id": "c03c4e41",
   "metadata": {},
   "outputs": [
    {
     "data": {
      "image/png": "[encoded data removed]",
      "text/plain": [
       "<Figure size 1080x360 with 1 Axes>"
      ]
     },
     "metadata": {
      "needs_background": "light"
     },
     "output_type": "display_data"
    }
   ],
   "source": [
    "#Graph with months\n",
    "for i in range(len(stations.stname)):\n",
    "    plt=hg_efas[stations.stname.iloc[i]].plot(kind='line',label=f'{stations.stname.iloc[i]}_efas',color ='orange',figsize=(15,5))\n",
    "    plt.set_ylabel('Discharge')\n",
    "    plt.set_xlabel('Time')\n",
    "    hg_agi[stations.stname.iloc[i]].plot(kind='line',label=f'{stations.stname.iloc[i]}_agi',color= 'blue')\n",
    "    # Minor ticks every month.\n",
    "    fmt_month = mdates.MonthLocator()\n",
    "    # Minor ticks every year.\n",
    "    fmt_year = mdates.YearLocator()\n",
    "    plt.xaxis.set_minor_locator(fmt_month)\n",
    "    # '%b' to get the names of the month\n",
    "    # '%m' to get months as number\n",
    "    plt.xaxis.set_minor_formatter(mdates.DateFormatter('%m'))\n",
    "    plt.xaxis.set_major_locator(fmt_year)\n",
    "    plt.xaxis.set_major_formatter(mdates.DateFormatter('%m'))\n",
    "\n",
    "    # fontsize for month labels\n",
    "    plt.tick_params(labelsize=8, which='both')\n",
    "    # create a second x-axis beneath the first x-axis to show the year in YYYY format\n",
    "    sec_xaxis = plt.secondary_xaxis(-0.1)\n",
    "    sec_xaxis.xaxis.set_major_locator(fmt_year)\n",
    "    sec_xaxis.xaxis.set_major_formatter(mdates.DateFormatter('%Y'))\n",
    "    plt.set_xlabel('Time')\n",
    "\n",
    "    ##start, end = plt.get_xlim()\n",
    "    ##plt.xaxis.set_ticks(np.arange(start, end))\n",
    "    plt.grid(zorder=0,linestyle='dotted', color='black')\n",
    "    plt.patch.set_facecolor(\"#EEEBB0\")\n",
    "    plt.legend()\n",
    "    plt.get_figure().savefig(f\"Plt_Chosen_DoğuAkdeniz/{stations.stname.iloc[i]}.png\",bbox_inches='tight',facecolor=\"#EEEBB0\")\n",
    "    plt.cla()\n",
    "    # Blue for agi, orange for efas data"
   ]
  },
  {
   "cell_type": "markdown",
   "id": "c07321ba",
   "metadata": {},
   "source": [
    "![green-divider](https://user-images.githubusercontent.com/7065401/52071924-c003ad80-2562-11e9-8297-1c6595f8a7ff.png)"
   ]
  }
 ],
 "metadata": {
  "kernelspec": {
   "display_name": "Python 3 (ipykernel)",
   "language": "python",
   "name": "python3"
  },
  "language_info": {
   "codemirror_mode": {
    "name": "ipython",
    "version": 3
   },
   "file_extension": ".py",
   "mimetype": "text/x-python",
   "name": "python",
   "nbconvert_exporter": "python",
   "pygments_lexer": "ipython3",
   "version": "3.9.12"
  }
 },
 "nbformat": 4,
 "nbformat_minor": 5
}
