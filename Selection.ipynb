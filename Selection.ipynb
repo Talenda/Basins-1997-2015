{
 "cells": [
  {
   "cell_type": "code",
   "execution_count": 147,
   "id": "8cd42dda",
   "metadata": {},
   "outputs": [],
   "source": [
    "import pandas as pd\n",
    "import matplotlib.pyplot as plt\n",
    "import matplotlib \n",
    "%matplotlib inline"
   ]
  },
  {
   "cell_type": "markdown",
   "id": "47067f24",
   "metadata": {},
   "source": [
    "# <center><font color=\"#40E0D0\" size=\"9\"> Antalya<font><center>"
   ]
  },
  {
   "cell_type": "code",
   "execution_count": 148,
   "id": "50049ae0",
   "metadata": {},
   "outputs": [],
   "source": [
    "efas_Antalya=pd.read_excel('Antalya/Antalya_dis24_1997_2015.xlsx')\n",
    "agi_Antalya=pd.read_excel(\"Antalya/Agi_Antalya_1997-2015.xlsx\")\n",
    "stations_Antalya=pd.read_excel(\"Antalya/Stations_Antalya.xlsx\")"
   ]
  },
  {
   "cell_type": "code",
   "execution_count": 149,
   "id": "f5cd74de",
   "metadata": {
    "scrolled": true
   },
   "outputs": [],
   "source": [
    "stations_Antalya=stations_Antalya.set_index(['stname'])"
   ]
  },
  {
   "cell_type": "code",
   "execution_count": 150,
   "id": "31fd0967",
   "metadata": {
    "scrolled": false
   },
   "outputs": [
    {
     "data": {
      "text/plain": [
       "Index(['D09A002', 'D09A006', 'D09A011', 'D09A013', 'D09A016', 'D09A031',\n",
       "       'D09A034', 'D09A039', 'D09A042', 'D09A056', 'D09A057', 'D09A060',\n",
       "       'D09A065', 'D09A067', 'D09A068', 'D09A069', 'D09A070', 'D09A073',\n",
       "       'D09A075', 'D09A076', 'D09A084', 'D09A086', 'D09A088', 'D09A089',\n",
       "       'D09A090', 'D09A091', 'D09A094', 'D09A095', 'D09A098', 'D09A098_X',\n",
       "       'D09A100', 'D09A101', 'D09A102', 'D09A103', 'D09A104', 'D09A106',\n",
       "       'D09A110', 'D09A111', 'D09A114', 'D09A116', 'D09A117', 'D09A118',\n",
       "       'D09A119', 'D09A120', 'D09A121', 'D09A122', 'D09A123', 'D09A124',\n",
       "       'D09A125', 'D09A126', 'D09A127', 'D09A131', 'D09A132', 'D09A133',\n",
       "       'D09A134', 'D09A135', 'E09A002', 'E09A012', 'E09A017', 'E09A018',\n",
       "       'E09A020', 'E09A021', 'E09A022', 'E09A024', 'E09A029', 'E09A030',\n",
       "       'E09A031', 'E09A032', 'E09A033'],\n",
       "      dtype='object', name='stname')"
      ]
     },
     "execution_count": 150,
     "metadata": {},
     "output_type": "execute_result"
    }
   ],
   "source": [
    "stations_Antalya.sort_index().index"
   ]
  },
  {
   "cell_type": "code",
   "execution_count": 151,
   "id": "579ff1c0",
   "metadata": {},
   "outputs": [
    {
     "data": {
      "text/plain": [
       "69"
      ]
     },
     "execution_count": 151,
     "metadata": {},
     "output_type": "execute_result"
    }
   ],
   "source": [
    "len(stations_Antalya)"
   ]
  },
  {
   "cell_type": "code",
   "execution_count": 152,
   "id": "567eae91",
   "metadata": {},
   "outputs": [],
   "source": [
    "main=list(stations_Antalya.index)\n",
    "#main"
   ]
  },
  {
   "cell_type": "code",
   "execution_count": 153,
   "id": "7bd267c4",
   "metadata": {},
   "outputs": [],
   "source": [
    "lis=['D09A016','D09A031','D09A069','D09A070','D09A073','D09A076','D09A090','D09A091','D09A094','D09A098', 'D09A098_X',\n",
    "     'D09A102','D09A103','D09A106','D09A110','D09A114','D09A116','D09A117','D09A118','D09A119','D09A120','D09A121','D09A123',\n",
    "     'D09A122','D09A123','D09A124','D09A125','D09A126','D09A127','D09A131','D09A132','D09A133','D09A134','D09A135','E09A002',\n",
    "     'E09A012','E09A017','E09A018','E09A020','E09A021','E09A022','E09A024','E09A029','E09A030','E09A031','E09A032','E09A033']"
   ]
  },
  {
   "cell_type": "code",
   "execution_count": 154,
   "id": "182a5c67",
   "metadata": {
    "scrolled": true
   },
   "outputs": [
    {
     "data": {
      "text/plain": [
       "47"
      ]
     },
     "execution_count": 154,
     "metadata": {},
     "output_type": "execute_result"
    }
   ],
   "source": [
    "len(lis)"
   ]
  },
  {
   "cell_type": "code",
   "execution_count": 155,
   "id": "010a252c",
   "metadata": {
    "scrolled": false
   },
   "outputs": [],
   "source": [
    "differ_Antalya= list(set(main)-set(lis))\n",
    "#differ_Antalya"
   ]
  },
  {
   "cell_type": "code",
   "execution_count": 156,
   "id": "d84337ec",
   "metadata": {},
   "outputs": [
    {
     "data": {
      "text/plain": [
       "23"
      ]
     },
     "execution_count": 156,
     "metadata": {},
     "output_type": "execute_result"
    }
   ],
   "source": [
    "len(differ_Antalya)"
   ]
  },
  {
   "cell_type": "code",
   "execution_count": 157,
   "id": "be20eab3",
   "metadata": {},
   "outputs": [],
   "source": [
    "for i in lis:\n",
    "    efas_Antalya =efas_Antalya.drop([f'{i}'], axis = 1,errors=\"ignore\")\n",
    "    agi_Antalya =agi_Antalya.drop([f'{i}'], axis = 1,errors=\"ignore\")\n",
    "    stations_Antalya=stations_Antalya.drop([f'{i}'],axis=0,errors=\"ignore\")"
   ]
  },
  {
   "cell_type": "code",
   "execution_count": 158,
   "id": "25d46f1b",
   "metadata": {
    "scrolled": false
   },
   "outputs": [
    {
     "data": {
      "text/plain": [
       "Index(['D09A002', 'D09A006', 'D09A011', 'D09A013', 'D09A042', 'D09A056',\n",
       "       'D09A057', 'D09A060', 'D09A065', 'D09A067', 'D09A075', 'D09A084',\n",
       "       'D09A086', 'D09A088', 'D09A089', 'D09A095', 'D09A100', 'D09A104',\n",
       "       'D09A111', 'D09A034', 'D09A039', 'D09A068', 'D09A101'],\n",
       "      dtype='object', name='stname')"
      ]
     },
     "execution_count": 158,
     "metadata": {},
     "output_type": "execute_result"
    }
   ],
   "source": [
    "stations_Antalya.index"
   ]
  },
  {
   "cell_type": "code",
   "execution_count": 159,
   "id": "d7d3c772",
   "metadata": {},
   "outputs": [
    {
     "data": {
      "text/plain": [
       "23"
      ]
     },
     "execution_count": 159,
     "metadata": {},
     "output_type": "execute_result"
    }
   ],
   "source": [
    "len(stations_Antalya.index)"
   ]
  },
  {
   "cell_type": "code",
   "execution_count": 160,
   "id": "37aaf6ec",
   "metadata": {},
   "outputs": [],
   "source": [
    "efas_Antalya.to_excel('Antalya/Selection/efas_Antalya.xlsx')\n",
    "agi_Antalya.to_excel('Antalya/Selection/agi_Antalya.xlsx')\n",
    "stations_Antalya.to_excel('Antalya/Selection/stations_Antalya.xlsx')\n",
    "stations_Antalya.to_csv('Antalya/Selection/stations_Antalya.csv')"
   ]
  },
  {
   "cell_type": "markdown",
   "id": "f838253f",
   "metadata": {},
   "source": [
    "![purple-divider](https://user-images.githubusercontent.com/7065401/52071927-c1cd7100-2562-11e9-908a-dde91ba14e59.png)"
   ]
  },
  {
   "cell_type": "markdown",
   "id": "b2ebf85a",
   "metadata": {},
   "source": [
    "# <center><font color=\"#40E0D0\" size=\"9\"> BatıAkdeniz<font><center>"
   ]
  },
  {
   "cell_type": "code",
   "execution_count": 96,
   "id": "feb059c6",
   "metadata": {},
   "outputs": [],
   "source": [
    "efas_BatıAkdeniz=pd.read_excel('BatıAkdeniz/BatıAkdeniz_dis24_1997_2015.xlsx')\n",
    "agi_BatıAkdeniz=pd.read_excel(\"BatıAkdeniz/Agi_BatıAkdeniz_1997-2015.xlsx\")\n",
    "stations_BatıAkdeniz=pd.read_excel(\"BatıAkdeniz/Stations_BatıAkdeniz.xlsx\")"
   ]
  },
  {
   "cell_type": "code",
   "execution_count": 97,
   "id": "2ddf24a4",
   "metadata": {
    "scrolled": true
   },
   "outputs": [],
   "source": [
    "stations_BatıAkdeniz=stations_BatıAkdeniz.set_index(['stname'])"
   ]
  },
  {
   "cell_type": "code",
   "execution_count": 98,
   "id": "b03fb243",
   "metadata": {
    "scrolled": true
   },
   "outputs": [
    {
     "data": {
      "text/plain": [
       "Index(['D08A009', 'D08A018', 'D08A019', 'D08A028', 'D08A049', 'D08A054',\n",
       "       'D08A060', 'D08A061', 'D08A067', 'D08A070', 'D08A071', 'D08A072',\n",
       "       'D08A073', 'D08A074', 'D08A075', 'D08A078', 'D08A079', 'D08A081',\n",
       "       'D08A083', 'D08A084', 'D08A085', 'D08A087', 'D08A089', 'D08A090',\n",
       "       'D08A091', 'D08A092', 'D08A094', 'D08A095', 'D08A096', 'D08A097',\n",
       "       'D08A098', 'D08A099', 'D08A100', 'D08A101', 'D08A103', 'D08A104',\n",
       "       'D08A105', 'D08A106', 'D08A107', 'D08A108', 'D08A109', 'D08A112',\n",
       "       'D08A113', 'D08A115', 'D08A118', 'D08A120', 'D08A121', 'D08A124',\n",
       "       'D08A126', 'D08A127', 'D08A128', 'D08A129', 'D08A131', 'D08A134',\n",
       "       'D08A135', 'D08A136', 'D08A137', 'D08A140', 'D08A142', 'D08A143',\n",
       "       'D08A144', 'D08A145', 'D08A146', 'D08A147', 'D08A148', 'D08A151',\n",
       "       'D08A152', 'D08A153', 'D08A154', 'D08A155', 'D08A156', 'D08A157',\n",
       "       'D08A160', 'E08A008', 'E08A009', 'E08A011', 'E08A015', 'E08A018'],\n",
       "      dtype='object', name='stname')"
      ]
     },
     "execution_count": 98,
     "metadata": {},
     "output_type": "execute_result"
    }
   ],
   "source": [
    "stations_BatıAkdeniz.sort_index().index"
   ]
  },
  {
   "cell_type": "code",
   "execution_count": 100,
   "id": "0b22ba32",
   "metadata": {},
   "outputs": [
    {
     "data": {
      "text/plain": [
       "78"
      ]
     },
     "execution_count": 100,
     "metadata": {},
     "output_type": "execute_result"
    }
   ],
   "source": [
    "len(stations_BatıAkdeniz.index)"
   ]
  },
  {
   "cell_type": "code",
   "execution_count": 102,
   "id": "f1093b67",
   "metadata": {},
   "outputs": [],
   "source": [
    "lis=['D08A019','D08A028','D08A054','D08A060','D08A072', 'D08A073','D08A074','D08A075','D08A078','D08A079','D08A085','D08A089',\n",
    "    'D08A090','D08A092','D08A094','D08A095','D08A096','D08A097','D08A099','D08A104','D08A105','D08A106','D08A107','D08A108',\n",
    "    'D08A113','D08A115','D08A118','D08A120','D08A121','D08A124','D08A126','D08A127','D08A128','D08A129','D08A131','D08A134',\n",
    "    'D08A135','D08A136','D08A137','D08A140','D08A142','D08A143','D08A144','D08A145','D08A146','D08A147','D08A148','D08A151',\n",
    "    'D08A152','D08A153','D08A154','D08A155','D08A156', 'D08A157','D08A160','E08A008', 'E08A009', 'E08A011', 'E08A015', \n",
    "    'E08A018']"
   ]
  },
  {
   "cell_type": "code",
   "execution_count": 103,
   "id": "72b38b86",
   "metadata": {},
   "outputs": [
    {
     "data": {
      "text/plain": [
       "60"
      ]
     },
     "execution_count": 103,
     "metadata": {},
     "output_type": "execute_result"
    }
   ],
   "source": [
    "len(lis)"
   ]
  },
  {
   "cell_type": "code",
   "execution_count": 105,
   "id": "2d5b44ff",
   "metadata": {},
   "outputs": [],
   "source": [
    "for i in lis:\n",
    "    efas_BatıAkdeniz =efas_BatıAkdeniz.drop([f'{i}'], axis = 1,errors=\"ignore\")\n",
    "    agi_BatıAkdeniz =agi_BatıAkdeniz.drop([f'{i}'], axis = 1,errors=\"ignore\")\n",
    "    stations_BatıAkdeniz =stations_BatıAkdeniz.drop([f'{i}'],axis=0,errors=\"ignore\")"
   ]
  },
  {
   "cell_type": "code",
   "execution_count": 106,
   "id": "838915ec",
   "metadata": {
    "scrolled": true
   },
   "outputs": [
    {
     "data": {
      "text/plain": [
       "Index(['D08A009', 'D08A018', 'D08A049', 'D08A061', 'D08A067', 'D08A070',\n",
       "       'D08A071', 'D08A081', 'D08A083', 'D08A084', 'D08A087', 'D08A091',\n",
       "       'D08A098', 'D08A100', 'D08A101', 'D08A103', 'D08A109', 'D08A112'],\n",
       "      dtype='object', name='stname')"
      ]
     },
     "execution_count": 106,
     "metadata": {},
     "output_type": "execute_result"
    }
   ],
   "source": [
    "stations_BatıAkdeniz.index"
   ]
  },
  {
   "cell_type": "code",
   "execution_count": 107,
   "id": "07b9e03b",
   "metadata": {},
   "outputs": [
    {
     "data": {
      "text/plain": [
       "18"
      ]
     },
     "execution_count": 107,
     "metadata": {},
     "output_type": "execute_result"
    }
   ],
   "source": [
    "len(stations_BatıAkdeniz.index)"
   ]
  },
  {
   "cell_type": "code",
   "execution_count": 108,
   "id": "d2a4d009",
   "metadata": {},
   "outputs": [],
   "source": [
    "efas_BatıAkdeniz.to_excel('BatıAkdeniz/Selection/efas_BatıAkdeniz.xlsx')\n",
    "agi_BatıAkdeniz.to_excel('BatıAkdeniz/Selection/agi_BatıAkdeniz.xlsx')\n",
    "stations_BatıAkdeniz.to_excel('BatıAkdeniz/Selection/stations_BatıAkdeniz.xlsx')\n",
    "stations_BatıAkdeniz.to_csv('BatıAkdeniz/Selection/stations_BatıAkdeniz.csv')"
   ]
  },
  {
   "cell_type": "markdown",
   "id": "7a1fa333",
   "metadata": {},
   "source": [
    "![purple-divider](https://user-images.githubusercontent.com/7065401/52071927-c1cd7100-2562-11e9-908a-dde91ba14e59.png)"
   ]
  },
  {
   "cell_type": "markdown",
   "id": "7fd5f43a",
   "metadata": {},
   "source": [
    "# <center><font color=\"#40E0D0\" size=\"9\"> BüyükMenderes<font><center>"
   ]
  },
  {
   "cell_type": "code",
   "execution_count": 137,
   "id": "c3c2b4d8",
   "metadata": {},
   "outputs": [],
   "source": [
    "efas_BuyukMenderes=pd.read_excel('BüyükMenderes/BuyukMenderes_dis24_1997_2015.xlsx')\n",
    "agi_BuyukMenderes=pd.read_excel(\"BüyükMenderes/Agi_BuyukMenderes_1997-2015.xlsx\")\n",
    "stations_BuyukMenderes=pd.read_excel(\"BüyükMenderes/Stations_BuyukMenderes.xlsx\")"
   ]
  },
  {
   "cell_type": "code",
   "execution_count": 138,
   "id": "d9e5b548",
   "metadata": {
    "scrolled": true
   },
   "outputs": [],
   "source": [
    "stations_BuyukMenderes=stations_BuyukMenderes.set_index(['stname'])"
   ]
  },
  {
   "cell_type": "code",
   "execution_count": 139,
   "id": "729bd823",
   "metadata": {
    "scrolled": false
   },
   "outputs": [
    {
     "data": {
      "text/plain": [
       "Index(['D07A003', 'D07A004', 'D07A007', 'D07A008', 'D07A009', 'D07A010',\n",
       "       'D07A014', 'D07A015', 'D07A026', 'D07A030', 'D07A032', 'D07A035',\n",
       "       'D07A039', 'D07A052', 'D07A053', 'D07A054', 'D07A059', 'D07A061',\n",
       "       'D07A062', 'D07A065', 'D07A070', 'D07A071', 'D07A075', 'D07A079',\n",
       "       'D07A081', 'D07A082', 'D07A083', 'D07A087', 'D07A093', 'D07A096',\n",
       "       'D07A097', 'D07A098', 'D07A099', 'D07A100', 'D07A102', 'D07A103',\n",
       "       'D07A106', 'D07A107', 'D07A108', 'D07A109', 'D07A111', 'D07A112',\n",
       "       'D07A114', 'D07A115', 'D07A120', 'D07A121', 'D07A122', 'D07A123',\n",
       "       'D07A124', 'D07A125', 'D07A127', 'D07A129', 'D07A130', 'D07A131',\n",
       "       'D07A132', 'D07A134', 'E07A001', 'E07A004', 'E07A006', 'E07A012',\n",
       "       'E07A013', 'E07A032', 'E07A033', 'E07A034', 'E07A037', 'E07A038',\n",
       "       'E07A042', 'E07A043', 'E07A044'],\n",
       "      dtype='object', name='stname')"
      ]
     },
     "execution_count": 139,
     "metadata": {},
     "output_type": "execute_result"
    }
   ],
   "source": [
    "stations_BuyukMenderes.sort_index().index"
   ]
  },
  {
   "cell_type": "code",
   "execution_count": 140,
   "id": "78c90131",
   "metadata": {},
   "outputs": [
    {
     "data": {
      "text/plain": [
       "69"
      ]
     },
     "execution_count": 140,
     "metadata": {},
     "output_type": "execute_result"
    }
   ],
   "source": [
    "len(stations_BuyukMenderes.index)"
   ]
  },
  {
   "cell_type": "code",
   "execution_count": 141,
   "id": "5a531b56",
   "metadata": {},
   "outputs": [],
   "source": [
    "lis=['D07A003', 'D07A004', 'D07A007', 'D07A008','D07A009','D07A010','D07A014','D07A026', 'D07A030', 'D07A032', 'D07A035', \n",
    "    'D07A039','D07A052',\n",
    "    'D07A053','D07A054','D07A059', 'D07A061','D07A062', 'D07A065', 'D07A070','D07A081','D07A083','D07A098','D07A102','D07A106',\n",
    "    'D07A107','D07A108', \n",
    "    'D07A109','D07A111', 'D07A112','D07A114', 'D07A115', 'D07A120','D07A121', 'D07A122', 'D07A123','D07A124', 'D07A125', \n",
    "    'D07A127', 'D07A129', 'D07A130', 'D07A131','D07A132', 'D07A134', 'E07A001', 'E07A004', 'E07A006', 'E07A012','E07A013',\n",
    "    'E07A032', 'E07A033', 'E07A034', 'E07A037', 'E07A038','E07A042', 'E07A043', 'E07A044']"
   ]
  },
  {
   "cell_type": "code",
   "execution_count": 142,
   "id": "ae45fa86",
   "metadata": {},
   "outputs": [
    {
     "data": {
      "text/plain": [
       "57"
      ]
     },
     "execution_count": 142,
     "metadata": {},
     "output_type": "execute_result"
    }
   ],
   "source": [
    "len(lis)"
   ]
  },
  {
   "cell_type": "code",
   "execution_count": 143,
   "id": "a206b512",
   "metadata": {},
   "outputs": [],
   "source": [
    "for i in lis:\n",
    "    efas_BuyukMenderes =efas_BuyukMenderes.drop([f'{i}'], axis = 1,errors=\"ignore\")\n",
    "    agi_BuyukMenderes =agi_BuyukMenderes.drop([f'{i}'], axis = 1,errors=\"ignore\")\n",
    "    stations_BuyukMenderes =stations_BuyukMenderes.drop([f'{i}'],axis=0,errors=\"ignore\")"
   ]
  },
  {
   "cell_type": "code",
   "execution_count": 144,
   "id": "c7c5927b",
   "metadata": {
    "scrolled": true
   },
   "outputs": [
    {
     "data": {
      "text/plain": [
       "Index(['D07A015', 'D07A071', 'D07A075', 'D07A079', 'D07A082', 'D07A087',\n",
       "       'D07A093', 'D07A096', 'D07A097', 'D07A099', 'D07A100', 'D07A103'],\n",
       "      dtype='object', name='stname')"
      ]
     },
     "execution_count": 144,
     "metadata": {},
     "output_type": "execute_result"
    }
   ],
   "source": [
    "stations_BuyukMenderes.index"
   ]
  },
  {
   "cell_type": "code",
   "execution_count": 145,
   "id": "a174b93c",
   "metadata": {},
   "outputs": [
    {
     "data": {
      "text/plain": [
       "12"
      ]
     },
     "execution_count": 145,
     "metadata": {},
     "output_type": "execute_result"
    }
   ],
   "source": [
    "len(stations_BuyukMenderes.index)"
   ]
  },
  {
   "cell_type": "code",
   "execution_count": 146,
   "id": "a612a806",
   "metadata": {},
   "outputs": [],
   "source": [
    "efas_BuyukMenderes.to_excel('BüyükMenderes/Selection/efas_BuyukMenderes.xlsx')\n",
    "agi_BuyukMenderes.to_excel('BüyükMenderes/Selection/agi_BuyukMenderes.xlsx')\n",
    "stations_BuyukMenderes.to_excel('BüyükMenderes/Selection/stations_BuyukMenderes.xlsx')\n",
    "stations_BuyukMenderes.to_csv('BüyükMenderes/Selection/stations_BuyukMenderes.csv')"
   ]
  },
  {
   "cell_type": "markdown",
   "id": "9ab98aed",
   "metadata": {},
   "source": [
    "![purple-divider](https://user-images.githubusercontent.com/7065401/52071927-c1cd7100-2562-11e9-908a-dde91ba14e59.png)"
   ]
  },
  {
   "cell_type": "markdown",
   "id": "784e584b",
   "metadata": {},
   "source": [
    "# <center><font color=\"#40E0D0\" size=\"9\"> DoğuAkdeniz<font><center>"
   ]
  },
  {
   "cell_type": "code",
   "execution_count": 120,
   "id": "1a8a596d",
   "metadata": {},
   "outputs": [],
   "source": [
    "efas_DoğuAkdeniz=pd.read_excel('DoğuAkdeniz/DoğuAkdeniz_dis24_1997_2015.xlsx')\n",
    "agi_DoğuAkdeniz=pd.read_excel(\"DoğuAkdeniz/Agi_DoğuAkdeniz_1997-2015.xlsx\")\n",
    "stations_DoğuAkdeniz=pd.read_excel(\"DoğuAkdeniz/Stations_DoğuAkdeniz.xlsx\")"
   ]
  },
  {
   "cell_type": "code",
   "execution_count": 121,
   "id": "6bb431f2",
   "metadata": {
    "scrolled": true
   },
   "outputs": [],
   "source": [
    "stations_DoğuAkdeniz=stations_DoğuAkdeniz.set_index(['stname'])"
   ]
  },
  {
   "cell_type": "code",
   "execution_count": 122,
   "id": "6e70135e",
   "metadata": {
    "scrolled": false
   },
   "outputs": [
    {
     "data": {
      "text/plain": [
       "Index(['D17A006', 'D17A007', 'D17A011', 'D17A012', 'D17A014', 'D17A016',\n",
       "       'D17A017', 'D17A024', 'D17A027', 'D17A029', 'D17A031', 'D17A032',\n",
       "       'D17A033', 'D17A034', 'D17A035', 'D17A036', 'D17A037', 'D17A038',\n",
       "       'D17A039', 'D17A040', 'D17A041', 'D17A042', 'D17A043', 'D17A044',\n",
       "       'D17A045', 'D17A046', 'D17A047', 'D17A048', 'D17A049', 'D17A050',\n",
       "       'D17A051', 'D17A053', 'D17A054', 'D17A055', 'D17A056', 'E17A012',\n",
       "       'E17A014', 'E17A017', 'E17A020', 'E17A021', 'E17A025', 'E17A029',\n",
       "       'E17A030', 'E17A032', 'E17A033', 'E17A037', 'E17A038', 'E17A039',\n",
       "       'E17A041', 'E17A042'],\n",
       "      dtype='object', name='stname')"
      ]
     },
     "execution_count": 122,
     "metadata": {},
     "output_type": "execute_result"
    }
   ],
   "source": [
    "stations_DoğuAkdeniz.sort_index().index"
   ]
  },
  {
   "cell_type": "code",
   "execution_count": 123,
   "id": "1efc0333",
   "metadata": {},
   "outputs": [
    {
     "data": {
      "text/plain": [
       "50"
      ]
     },
     "execution_count": 123,
     "metadata": {},
     "output_type": "execute_result"
    }
   ],
   "source": [
    "len(stations_DoğuAkdeniz.index)"
   ]
  },
  {
   "cell_type": "code",
   "execution_count": 125,
   "id": "cf735d7c",
   "metadata": {},
   "outputs": [],
   "source": [
    "lis=['D17A014','D17A029','D17A031','D17A032','D17A036','D17A037','D17A041','D17A042','D17A043','D17A048','D17A051','D17A053',\n",
    "    'D17A054','D17A055','D17A056','E17A012','E17A014','E17A017','E17A020','E17A021','E17A025','E17A029','E17A030','E17A032',\n",
    "    'E17A033','E17A037','E17A038', 'E17A039','E17A041','E17A042']"
   ]
  },
  {
   "cell_type": "code",
   "execution_count": 126,
   "id": "3efe681d",
   "metadata": {},
   "outputs": [],
   "source": [
    "for i in lis:\n",
    "    efas_DoğuAkdeniz =efas_DoğuAkdeniz.drop([f'{i}'], axis = 1)\n",
    "    agi_DoğuAkdeniz =agi_DoğuAkdeniz.drop([f'{i}'], axis = 1)\n",
    "    stations_DoğuAkdeniz =stations_DoğuAkdeniz.drop([f'{i}'],axis=0)"
   ]
  },
  {
   "cell_type": "code",
   "execution_count": 127,
   "id": "144dfcfc",
   "metadata": {
    "scrolled": false
   },
   "outputs": [
    {
     "data": {
      "text/plain": [
       "Index(['D17A007', 'D17A011', 'D17A012', 'D17A016', 'D17A017', 'D17A024',\n",
       "       'D17A027', 'D17A033', 'D17A035', 'D17A038', 'D17A039', 'D17A040',\n",
       "       'D17A045', 'D17A034', 'D17A046', 'D17A047', 'D17A050', 'D17A006',\n",
       "       'D17A044', 'D17A049'],\n",
       "      dtype='object', name='stname')"
      ]
     },
     "execution_count": 127,
     "metadata": {},
     "output_type": "execute_result"
    }
   ],
   "source": [
    "stations_DoğuAkdeniz.index"
   ]
  },
  {
   "cell_type": "code",
   "execution_count": 128,
   "id": "12f956ef",
   "metadata": {},
   "outputs": [
    {
     "data": {
      "text/plain": [
       "20"
      ]
     },
     "execution_count": 128,
     "metadata": {},
     "output_type": "execute_result"
    }
   ],
   "source": [
    "len(stations_DoğuAkdeniz.index)"
   ]
  },
  {
   "cell_type": "code",
   "execution_count": 129,
   "id": "445d6246",
   "metadata": {},
   "outputs": [],
   "source": [
    "efas_DoğuAkdeniz.to_excel('DoğuAkdeniz/Selection/efas_DoğuAkdeniz.xlsx')\n",
    "agi_DoğuAkdeniz.to_excel('DoğuAkdeniz/Selection/agi_DoğuAkdeniz.xlsx')\n",
    "stations_DoğuAkdeniz.to_excel('DoğuAkdeniz/Selection/stations_DoğuAkdeniz.xlsx')\n",
    "stations_DoğuAkdeniz.to_csv('DoğuAkdeniz/Selection/stations_DoğuAkdeniz.csv')"
   ]
  },
  {
   "cell_type": "code",
   "execution_count": null,
   "id": "c3bc9483",
   "metadata": {},
   "outputs": [],
   "source": []
  }
 ],
 "metadata": {
  "kernelspec": {
   "display_name": "Python 3 (ipykernel)",
   "language": "python",
   "name": "python3"
  },
  "language_info": {
   "codemirror_mode": {
    "name": "ipython",
    "version": 3
   },
   "file_extension": ".py",
   "mimetype": "text/x-python",
   "name": "python",
   "nbconvert_exporter": "python",
   "pygments_lexer": "ipython3",
   "version": "3.9.12"
  }
 },
 "nbformat": 4,
 "nbformat_minor": 5
}
