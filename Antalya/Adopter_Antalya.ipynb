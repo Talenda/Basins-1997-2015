{
 "cells": [
  {
   "cell_type": "code",
   "execution_count": 1,
   "id": "ae3b710a",
   "metadata": {},
   "outputs": [],
   "source": [
    "#conda install -c conda-forge xarray"
   ]
  },
  {
   "cell_type": "code",
   "execution_count": 2,
   "id": "40d85cee",
   "metadata": {},
   "outputs": [],
   "source": [
    "#conda install -c conda-forge xarray dask netCDF4 bottleneck"
   ]
  },
  {
   "cell_type": "code",
   "execution_count": 3,
   "id": "c4971a03",
   "metadata": {},
   "outputs": [],
   "source": [
    "import webbrowser\n",
    "#webbrowser.open('https://github.com/enyfeo/efas/tree/master/work')"
   ]
  },
  {
   "cell_type": "code",
   "execution_count": 4,
   "id": "bd00c326",
   "metadata": {},
   "outputs": [],
   "source": [
    "import webbrowser\n",
    "#webbrowser.open('https://1028f8d26f624cd18d39-my.sharepoint.com/:f:/g/personal/yilmazk_metu_edu_tr/Esk2AiVspw5OsePr7toWahgBC1HX7YlK_zVKD8K6NL1TKQ?e=XWbvuh')"
   ]
  },
  {
   "cell_type": "code",
   "execution_count": 5,
   "id": "6534770d",
   "metadata": {},
   "outputs": [],
   "source": [
    "# xarray.sel\n",
    "import webbrowser\n",
    "#webbrowser.open('https://docs.xarray.dev/en/stable/generated/xarray.DataArray.sel.html')"
   ]
  },
  {
   "cell_type": "code",
   "execution_count": 6,
   "id": "2e2967c7",
   "metadata": {},
   "outputs": [],
   "source": [
    "# Plot show months\n",
    "import webbrowser\n",
    "#webbrowser.open('https://stackoverflow.com/questions/67582913/plotting-time-series-in-matplotlib-with-month-names-ex-january-and-showing-ye')"
   ]
  },
  {
   "cell_type": "markdown",
   "id": "8781e2a8",
   "metadata": {},
   "source": [
    "conda install -c anaconda xarray"
   ]
  },
  {
   "cell_type": "markdown",
   "id": "b535b0d4",
   "metadata": {},
   "source": [
    "conda install -c anaconda netcdf4"
   ]
  },
  {
   "cell_type": "markdown",
   "id": "62bce4cd",
   "metadata": {},
   "source": [
    "conda install -c conda-forge xarray dask netCDF4 bottleneck"
   ]
  },
  {
   "cell_type": "code",
   "execution_count": 7,
   "id": "966e2f2c",
   "metadata": {},
   "outputs": [],
   "source": [
    "import pandas as pd\n",
    "import xarray as xr\n",
    "import numpy as np\n",
    "from random import sample\n",
    "import matplotlib\n",
    "import matplotlib.pyplot as plot\n",
    "%matplotlib inline"
   ]
  },
  {
   "cell_type": "code",
   "execution_count": 8,
   "id": "a4ce8d6d",
   "metadata": {},
   "outputs": [],
   "source": [
    "stations = pd.read_excel('Stations_Antalya.xlsx', index_col=0)"
   ]
  },
  {
   "cell_type": "markdown",
   "id": "fad82abd",
   "metadata": {},
   "source": [
    "conda list"
   ]
  },
  {
   "cell_type": "markdown",
   "id": "8ad6b005",
   "metadata": {},
   "source": [
    "clim = xr.open_dataset(\"C:/Users/user/Desktop/Efas_datasets/adaptor_1997.nc\")\n",
    "clim"
   ]
  },
  {
   "cell_type": "markdown",
   "id": "4b06fd8c",
   "metadata": {},
   "source": [
    "dfall = pd.DataFrame()\n",
    "pgs = range(1997, 2016)\n",
    "for pg in pgs:\n",
    "    print('Year Processing: ', str(pg))\n",
    "    #  Read TimeSeries Data for the current year\n",
    "    #flname =  \"Efas_datasets/adaptor_\" + str(pg) + \".nc\"\n",
    "    flname = \"C:/Users/user/Desktop/Efas_datasets/adaptor_\" + str(pg) + \".nc\"\n",
    "    clim = xr.open_dataset(flname)\n",
    "    clim\n",
    "    lat = clim.variables['latitude']\n",
    "    lon = clim.variables['longitude']\n",
    "    # convert data to usable ndarray\n",
    "    lat_ndarray = np.asarray(lat[:])\n",
    "    lon_ndarray = np.asarray(lon[:])  \n",
    "    # Iterate over all the stations in stations frame\n",
    "    dfyear = pd.DataFrame()\n",
    "    for stnam in stations.stname:\n",
    "        station=stations[stations['stname'] == stnam] # We have chosen a station for consistency\n",
    "        station\n",
    "        # Get grid corrdinates nearest to the selected station\n",
    "        coordinates = np.unravel_index((np.abs(lat_ndarray - station.north.values) + np.abs(lon_ndarray - station.east.values)).argmin(), lat_ndarray.shape)\n",
    "        st_y = clim.variables['y'][coordinates[0]]\n",
    "        st_x = clim.variables['x'][coordinates[1]]\n",
    "        # Now we will plot a time series of the derived station by using its Lat and Lon, locating the nearest point\n",
    "        # extract data for selected point in netcdf file by LISFLOOD coordinates\n",
    "        #dsloc = ds.sel(x=station.LisfloodX.values,y=station.LisfloodY.values,method='nearest')\n",
    "        climloc = clim.sel(x=st_x,y=st_y,method='nearest')\n",
    "        # Now that we have a location in the dsloc and climloc variables we can plot the data. Below we will first align the data so that the time fields are in the same format and reference\n",
    "        # Historical Simulations are based on the 06UTC of the Date in the Time field Forecast fields are based on the timestep from the basetime.\n",
    "\n",
    "        #base=dsloc.time.values\n",
    "        #time=np.array([base+np.timedelta64(step) for step in dsloc.step.values])\n",
    "        # We will now construct a dataframe consisting of the Historical Dataset and Ensemble Members\n",
    "        df = pd.DataFrame({\n",
    "        #    'Historical_times': np.array(climloc.time.values + np.timedelta64(climloc.step.values)),\n",
    "            'Historical_times': np.array(climloc.time.values),\n",
    "            # Historical Times from the Climatology File\n",
    "            'Historical': climloc.dis06.values}) #[:, -1, -1]#,  # Historical Data from the Climatology file\n",
    "        #    'TimeStep': time})  # Time data from the Ensemble Data file as Times (Base + Delta(\"STEP\"))\n",
    "        df.rename(columns={'Historical': stnam}, inplace=True)\n",
    "\n",
    "        if stnam == stations.stname[stations.stname.index[0]]:\n",
    "            dfyear = pd.concat([dfyear, df], axis=1, sort=False)\n",
    "            print(stnam)\n",
    "        else:\n",
    "            df = df.drop(columns=['Historical_times'])\n",
    "            dfyear = pd.concat([dfyear, df], axis=1, sort=False) \n",
    "    dfall = dfall.append(dfyear, ignore_index=True)"
   ]
  },
  {
   "cell_type": "markdown",
   "id": "2b3883e5",
   "metadata": {},
   "source": [
    "#for number in dsloc.number.values:  # Include each member into the dataframe\n",
    "#    df['Ensemble_Member_' + str(number)] = dsloc.dis24[number - 1, :, -1, -1].values\n",
    "\n",
    "##dfall.head()  # Print a short list of the dataframe\n",
    "# Now we will plot the members of the Dataframe\n",
    "dfall.to_excel('Adopter_Antalya_1997_2015.xlsx')"
   ]
  },
  {
   "cell_type": "markdown",
   "id": "801be397",
   "metadata": {},
   "source": [
    "![green-divider](https://user-images.githubusercontent.com/7065401/52071924-c003ad80-2562-11e9-8297-1c6595f8a7ff.png)"
   ]
  },
  {
   "cell_type": "markdown",
   "id": "ada728db",
   "metadata": {},
   "source": [
    "# Dis06 to Dis24"
   ]
  },
  {
   "cell_type": "code",
   "execution_count": 9,
   "id": "17b1e3a1",
   "metadata": {},
   "outputs": [],
   "source": [
    "dfall = pd.read_excel(\"Adopter_Antalya_1997_2015.xlsx\")"
   ]
  },
  {
   "cell_type": "code",
   "execution_count": 10,
   "id": "aa31e8d4",
   "metadata": {},
   "outputs": [],
   "source": [
    "dfall.set_index('Historical_times', inplace=True)\n",
    "#Set index of data as date"
   ]
  },
  {
   "cell_type": "code",
   "execution_count": 11,
   "id": "00de234e",
   "metadata": {},
   "outputs": [],
   "source": [
    "# DateOffsets\n",
    "import webbrowser\n",
    "#webbrowser.open('https://pandas.pydata.org/pandas-docs/stable/user_guide/timeseries.html#dateoffset-objects')"
   ]
  },
  {
   "cell_type": "code",
   "execution_count": 12,
   "id": "7fedbcde",
   "metadata": {},
   "outputs": [],
   "source": [
    "flw_dis24 =dfall.resample('D').mean()\n",
    "#Resample the data according to day with mean method"
   ]
  },
  {
   "cell_type": "code",
   "execution_count": 13,
   "id": "7f5e0e0c",
   "metadata": {},
   "outputs": [],
   "source": [
    "flw_dis24\n",
    "flw_dis24.to_excel('Antalya_dis24_1997_2015.xlsx')"
   ]
  },
  {
   "cell_type": "markdown",
   "id": "75b5d177",
   "metadata": {},
   "source": [
    "![green-divider](https://user-images.githubusercontent.com/7065401/52071924-c003ad80-2562-11e9-8297-1c6595f8a7ff.png)"
   ]
  },
  {
   "cell_type": "code",
   "execution_count": 14,
   "id": "9d18adb9",
   "metadata": {},
   "outputs": [],
   "source": [
    "import numpy as np\n",
    "import pandas as pd\n",
    "import matplotlib.pyplot as plt\n",
    "from matplotlib import dates as mdates\n",
    "\n",
    "%matplotlib inline"
   ]
  },
  {
   "cell_type": "code",
   "execution_count": 15,
   "id": "ca936234",
   "metadata": {},
   "outputs": [],
   "source": [
    "place = \"C:/Users/user/Desktop/$Main_Tübitak/DSI_Uniform_Output/Antalya/\"\n",
    "stations = pd.read_excel('Stations_Antalya.xlsx', index_col=0)\n",
    "df_total = pd.DataFrame(columns = stations.stname)\n",
    "\n",
    "for i in range(1997,2016):\n",
    "    x= pd.read_excel(place +f\"FlowBook_Antalya_Basin_{i}_FlowTimeSeries.xlsx\")\n",
    "    df_total = pd.concat([df_total, x]) "
   ]
  },
  {
   "cell_type": "code",
   "execution_count": 16,
   "id": "b3b8428b",
   "metadata": {},
   "outputs": [],
   "source": [
    "df_total.set_index(\"datetime\", inplace=True)"
   ]
  },
  {
   "cell_type": "markdown",
   "id": "925dd19c",
   "metadata": {},
   "source": [
    "![purple-divider](https://user-images.githubusercontent.com/7065401/52071927-c1cd7100-2562-11e9-908a-dde91ba14e59.png)"
   ]
  },
  {
   "cell_type": "markdown",
   "id": "722df102",
   "metadata": {},
   "source": [
    "# Hydrograph"
   ]
  },
  {
   "cell_type": "code",
   "execution_count": 17,
   "id": "e82deffa",
   "metadata": {},
   "outputs": [],
   "source": [
    "import matplotlib \n",
    "%matplotlib inline"
   ]
  },
  {
   "cell_type": "code",
   "execution_count": 18,
   "id": "6ae50a62",
   "metadata": {},
   "outputs": [],
   "source": [
    "hg_efas=flw_dis24\n",
    "# hg: Hydrograph\n",
    "hg_agi=df_total"
   ]
  },
  {
   "cell_type": "code",
   "execution_count": 19,
   "id": "6cec1643",
   "metadata": {},
   "outputs": [
    {
     "data": {
      "image/png": "[encoded data removed]",
      "text/plain": [
       "<Figure size 1080x360 with 1 Axes>"
      ]
     },
     "metadata": {
      "needs_background": "light"
     },
     "output_type": "display_data"
    }
   ],
   "source": [
    "plt=hg_agi.D09A011.plot(kind='line',label='D09A011_agi',color= 'blue',figsize=(15,5))"
   ]
  },
  {
   "cell_type": "markdown",
   "id": "96b9945b",
   "metadata": {},
   "source": [
    "# D09A011"
   ]
  },
  {
   "cell_type": "code",
   "execution_count": 20,
   "id": "e8198d6e",
   "metadata": {},
   "outputs": [
    {
     "data": {
      "text/plain": [
       "<matplotlib.legend.Legend at 0x251fc288190>"
      ]
     },
     "execution_count": 20,
     "metadata": {},
     "output_type": "execute_result"
    },
    {
     "data": {
      "image/png": "[encoded data removed]",
      "text/plain": [
       "<Figure size 1080x360 with 1 Axes>"
      ]
     },
     "metadata": {
      "needs_background": "light"
     },
     "output_type": "display_data"
    }
   ],
   "source": [
    "#D09A011\n",
    "plt=hg_efas.D09A011.plot(kind='line',label='D09A011_efas',color ='orange',figsize=(15,5))\n",
    "plt.set_ylabel('Discharge')\n",
    "plt.set_xlabel('Time')\n",
    "hg_agi.D09A011.plot(kind='line',label='D09A011_agi',color= 'blue')\n",
    "# Minor ticks every month.\n",
    "fmt_month = mdates.MonthLocator()\n",
    "# Minor ticks every year.\n",
    "fmt_year = mdates.YearLocator()\n",
    "plt.xaxis.set_minor_locator(fmt_month)\n",
    "# '%b' to get the names of the month\n",
    "# '%m' to get months as number\n",
    "plt.xaxis.set_minor_formatter(mdates.DateFormatter('%m'))\n",
    "plt.xaxis.set_major_locator(fmt_year)\n",
    "plt.xaxis.set_major_formatter(mdates.DateFormatter('%m'))\n",
    "\n",
    "# fontsize for month labels\n",
    "plt.tick_params(labelsize=8, which='both')\n",
    "# create a second x-axis beneath the first x-axis to show the year in YYYY format\n",
    "sec_xaxis = plt.secondary_xaxis(-0.1)\n",
    "sec_xaxis.xaxis.set_major_locator(fmt_year)\n",
    "sec_xaxis.xaxis.set_major_formatter(mdates.DateFormatter('%Y'))\n",
    "plt.set_xlabel('Time')\n",
    "\n",
    "##start, end = plt.get_xlim()\n",
    "##plt.xaxis.set_ticks(np.arange(start, end))\n",
    "plt.grid(zorder=0,linestyle='dotted', color='black')\n",
    "#Zorder for line drawings\n",
    "plt.legend()\n",
    "##plt.get_figure().savefig(f\"plt/D09A011.png\",bbox_inches='tight')\n",
    "# Blue for agi, orange for efas data"
   ]
  },
  {
   "cell_type": "markdown",
   "id": "63227b8d",
   "metadata": {},
   "source": [
    "![purple-divider](https://user-images.githubusercontent.com/7065401/52071927-c1cd7100-2562-11e9-908a-dde91ba14e59.png)"
   ]
  },
  {
   "cell_type": "markdown",
   "id": "51cae534",
   "metadata": {},
   "source": [
    "# Loop for Graphs"
   ]
  },
  {
   "cell_type": "code",
   "execution_count": 48,
   "id": "4f4e3fe1",
   "metadata": {},
   "outputs": [],
   "source": [
    "stations=stations.set_index(['stname'])"
   ]
  },
  {
   "cell_type": "code",
   "execution_count": 49,
   "id": "8332f5cd",
   "metadata": {
    "scrolled": false
   },
   "outputs": [
    {
     "data": {
      "text/plain": [
       "Index(['D09A002', 'D09A006', 'D09A011', 'D09A013', 'D09A016', 'D09A042',\n",
       "       'D09A056', 'D09A057', 'D09A060', 'D09A065', 'D09A067', 'D09A073',\n",
       "       'D09A075', 'D09A076', 'D09A084', 'D09A086', 'D09A088', 'D09A089',\n",
       "       'D09A091', 'D09A095', 'D09A100', 'D09A102', 'D09A104', 'D09A106',\n",
       "       'D09A110', 'D09A111', 'D09A034', 'D09A039', 'D09A094', 'D09A068',\n",
       "       'D09A069', 'D09A070', 'D09A101', 'D09A103', 'D09A114', 'D09A116',\n",
       "       'D09A123', 'D09A090', 'D09A098', 'D09A117', 'D09A118', 'D09A120',\n",
       "       'D09A119', 'D09A121', 'D09A031', 'D09A122', 'D09A125', 'D09A126',\n",
       "       'D09A127', 'D09A131', 'D09A132', 'D09A133', 'D09A134', 'D09A135',\n",
       "       'E09A002', 'E09A012', 'E09A017', 'E09A018', 'E09A020', 'E09A021',\n",
       "       'E09A022', 'E09A024', 'E09A029', 'E09A030', 'E09A031', 'E09A032',\n",
       "       'E09A033', 'D09A098_X'],\n",
       "      dtype='object', name='stname')"
      ]
     },
     "execution_count": 49,
     "metadata": {},
     "output_type": "execute_result"
    }
   ],
   "source": [
    "stations.index"
   ]
  },
  {
   "cell_type": "code",
   "execution_count": 62,
   "id": "40f38e6d",
   "metadata": {},
   "outputs": [],
   "source": [
    "lis=[ 'D09A117', 'D09A118', 'D09A120',\n",
    "       'D09A119', 'D09A121', 'D09A031', 'D09A122', 'D09A125', 'D09A126',\n",
    "       'D09A127', 'D09A131', 'D09A132', 'D09A133', 'D09A134', 'D09A135',\n",
    "       'E09A002', 'E09A012', 'E09A017', 'E09A018', 'E09A020', 'E09A021',\n",
    "       'E09A022', 'E09A024', 'E09A029', 'E09A030', 'E09A031', 'E09A032',\n",
    "       'E09A033', 'D09A098_X']"
   ]
  },
  {
   "cell_type": "code",
   "execution_count": 63,
   "id": "adf41d9b",
   "metadata": {},
   "outputs": [
    {
     "data": {
      "text/plain": [
       "'D09A117'"
      ]
     },
     "execution_count": 63,
     "metadata": {},
     "output_type": "execute_result"
    }
   ],
   "source": [
    "lis[0]"
   ]
  },
  {
   "cell_type": "markdown",
   "id": "6e8c8672",
   "metadata": {},
   "source": [
    "hg_efas=hg_efas.drop(['D09A124'], axis = 1)\n",
    "hg_agi=hg_agi.drop(['D09A124'], axis = 1)"
   ]
  },
  {
   "cell_type": "code",
   "execution_count": 43,
   "id": "c6d61174",
   "metadata": {},
   "outputs": [],
   "source": [
    "stations=stations.reset_index()"
   ]
  },
  {
   "cell_type": "code",
   "execution_count": 64,
   "id": "1f2f977a",
   "metadata": {},
   "outputs": [
    {
     "data": {
      "image/png": "[encoded data removed]",
      "text/plain": [
       "<Figure size 1080x360 with 1 Axes>"
      ]
     },
     "metadata": {
      "needs_background": "light"
     },
     "output_type": "display_data"
    }
   ],
   "source": [
    "#Graph with months\n",
    "for i in range(len(lis)):\n",
    "    plt=hg_efas[lis[i]].plot(kind='line',label=f'{lis[i]}_efas',color ='orange',figsize=(15,5))\n",
    "    plt.set_ylabel('Discharge')\n",
    "    plt.set_xlabel('Time')\n",
    "    hg_agi[lis[i]].plot(kind='line',label=f'{lis[i]}_agi',color= 'blue')\n",
    "    # Minor ticks every month.\n",
    "    fmt_month = mdates.MonthLocator()\n",
    "    # Minor ticks every year.\n",
    "    fmt_year = mdates.YearLocator()\n",
    "    plt.xaxis.set_minor_locator(fmt_month)\n",
    "    # '%b' to get the names of the month\n",
    "    # '%m' to get months as number\n",
    "    plt.xaxis.set_minor_formatter(mdates.DateFormatter('%m'))\n",
    "    plt.xaxis.set_major_locator(fmt_year)\n",
    "    plt.xaxis.set_major_formatter(mdates.DateFormatter('%m'))\n",
    "\n",
    "    # fontsize for month labels\n",
    "    plt.tick_params(labelsize=8, which='both')\n",
    "    # create a second x-axis beneath the first x-axis to show the year in YYYY format\n",
    "    sec_xaxis = plt.secondary_xaxis(-0.1)\n",
    "    sec_xaxis.xaxis.set_major_locator(fmt_year)\n",
    "    sec_xaxis.xaxis.set_major_formatter(mdates.DateFormatter('%Y'))\n",
    "    plt.set_xlabel('Time')\n",
    "\n",
    "    ##start, end = plt.get_xlim()\n",
    "    ##plt.xaxis.set_ticks(np.arange(start, end))\n",
    "    plt.grid(zorder=0,linestyle='dotted', color='black')\n",
    "    plt.patch.set_facecolor(\"#B0EAAD\")\n",
    "    plt.legend()\n",
    "    plt.get_figure().savefig(f\"Plt_Antalya/{lis[i]}.png\",bbox_inches='tight',facecolor=\"#B0EAAD\")\n",
    "    plt.cla()\n",
    "    # Blue for agi, orange for efas data"
   ]
  },
  {
   "cell_type": "code",
   "execution_count": 44,
   "id": "c03c4e41",
   "metadata": {},
   "outputs": [
    {
     "ename": "KeyError",
     "evalue": "'D09A091'",
     "output_type": "error",
     "traceback": [
      "\u001b[1;31m---------------------------------------------------------------------------\u001b[0m",
      "\u001b[1;31mKeyError\u001b[0m                                  Traceback (most recent call last)",
      "File \u001b[1;32m~\\anaconda3\\lib\\site-packages\\pandas\\core\\indexes\\base.py:3621\u001b[0m, in \u001b[0;36mIndex.get_loc\u001b[1;34m(self, key, method, tolerance)\u001b[0m\n\u001b[0;32m   3620\u001b[0m \u001b[38;5;28;01mtry\u001b[39;00m:\n\u001b[1;32m-> 3621\u001b[0m     \u001b[38;5;28;01mreturn\u001b[39;00m \u001b[38;5;28;43mself\u001b[39;49m\u001b[38;5;241;43m.\u001b[39;49m\u001b[43m_engine\u001b[49m\u001b[38;5;241;43m.\u001b[39;49m\u001b[43mget_loc\u001b[49m\u001b[43m(\u001b[49m\u001b[43mcasted_key\u001b[49m\u001b[43m)\u001b[49m\n\u001b[0;32m   3622\u001b[0m \u001b[38;5;28;01mexcept\u001b[39;00m \u001b[38;5;167;01mKeyError\u001b[39;00m \u001b[38;5;28;01mas\u001b[39;00m err:\n",
      "File \u001b[1;32m~\\anaconda3\\lib\\site-packages\\pandas\\_libs\\index.pyx:136\u001b[0m, in \u001b[0;36mpandas._libs.index.IndexEngine.get_loc\u001b[1;34m()\u001b[0m\n",
      "File \u001b[1;32m~\\anaconda3\\lib\\site-packages\\pandas\\_libs\\index.pyx:163\u001b[0m, in \u001b[0;36mpandas._libs.index.IndexEngine.get_loc\u001b[1;34m()\u001b[0m\n",
      "File \u001b[1;32mpandas\\_libs\\hashtable_class_helper.pxi:5198\u001b[0m, in \u001b[0;36mpandas._libs.hashtable.PyObjectHashTable.get_item\u001b[1;34m()\u001b[0m\n",
      "File \u001b[1;32mpandas\\_libs\\hashtable_class_helper.pxi:5206\u001b[0m, in \u001b[0;36mpandas._libs.hashtable.PyObjectHashTable.get_item\u001b[1;34m()\u001b[0m\n",
      "\u001b[1;31mKeyError\u001b[0m: 'D09A091'",
      "\nThe above exception was the direct cause of the following exception:\n",
      "\u001b[1;31mKeyError\u001b[0m                                  Traceback (most recent call last)",
      "Input \u001b[1;32mIn [44]\u001b[0m, in \u001b[0;36m<cell line: 2>\u001b[1;34m()\u001b[0m\n\u001b[0;32m      1\u001b[0m \u001b[38;5;66;03m#Graph with months\u001b[39;00m\n\u001b[0;32m      2\u001b[0m \u001b[38;5;28;01mfor\u001b[39;00m i \u001b[38;5;129;01min\u001b[39;00m \u001b[38;5;28mrange\u001b[39m(\u001b[38;5;28mlen\u001b[39m(stations\u001b[38;5;241m.\u001b[39mstname)):\n\u001b[1;32m----> 3\u001b[0m     plt\u001b[38;5;241m=\u001b[39m\u001b[43mhg_efas\u001b[49m\u001b[43m[\u001b[49m\u001b[43mstations\u001b[49m\u001b[38;5;241;43m.\u001b[39;49m\u001b[43mstname\u001b[49m\u001b[38;5;241;43m.\u001b[39;49m\u001b[43miloc\u001b[49m\u001b[43m[\u001b[49m\u001b[43mi\u001b[49m\u001b[43m]\u001b[49m\u001b[43m]\u001b[49m\u001b[38;5;241m.\u001b[39mplot(kind\u001b[38;5;241m=\u001b[39m\u001b[38;5;124m'\u001b[39m\u001b[38;5;124mline\u001b[39m\u001b[38;5;124m'\u001b[39m,label\u001b[38;5;241m=\u001b[39m\u001b[38;5;124mf\u001b[39m\u001b[38;5;124m'\u001b[39m\u001b[38;5;132;01m{\u001b[39;00mstations\u001b[38;5;241m.\u001b[39mstname\u001b[38;5;241m.\u001b[39miloc[i]\u001b[38;5;132;01m}\u001b[39;00m\u001b[38;5;124m_efas\u001b[39m\u001b[38;5;124m'\u001b[39m,color \u001b[38;5;241m=\u001b[39m\u001b[38;5;124m'\u001b[39m\u001b[38;5;124morange\u001b[39m\u001b[38;5;124m'\u001b[39m,figsize\u001b[38;5;241m=\u001b[39m(\u001b[38;5;241m15\u001b[39m,\u001b[38;5;241m5\u001b[39m))\n\u001b[0;32m      4\u001b[0m     plt\u001b[38;5;241m.\u001b[39mset_ylabel(\u001b[38;5;124m'\u001b[39m\u001b[38;5;124mDischarge\u001b[39m\u001b[38;5;124m'\u001b[39m)\n\u001b[0;32m      5\u001b[0m     plt\u001b[38;5;241m.\u001b[39mset_xlabel(\u001b[38;5;124m'\u001b[39m\u001b[38;5;124mTime\u001b[39m\u001b[38;5;124m'\u001b[39m)\n",
      "File \u001b[1;32m~\\anaconda3\\lib\\site-packages\\pandas\\core\\frame.py:3505\u001b[0m, in \u001b[0;36mDataFrame.__getitem__\u001b[1;34m(self, key)\u001b[0m\n\u001b[0;32m   3503\u001b[0m \u001b[38;5;28;01mif\u001b[39;00m \u001b[38;5;28mself\u001b[39m\u001b[38;5;241m.\u001b[39mcolumns\u001b[38;5;241m.\u001b[39mnlevels \u001b[38;5;241m>\u001b[39m \u001b[38;5;241m1\u001b[39m:\n\u001b[0;32m   3504\u001b[0m     \u001b[38;5;28;01mreturn\u001b[39;00m \u001b[38;5;28mself\u001b[39m\u001b[38;5;241m.\u001b[39m_getitem_multilevel(key)\n\u001b[1;32m-> 3505\u001b[0m indexer \u001b[38;5;241m=\u001b[39m \u001b[38;5;28;43mself\u001b[39;49m\u001b[38;5;241;43m.\u001b[39;49m\u001b[43mcolumns\u001b[49m\u001b[38;5;241;43m.\u001b[39;49m\u001b[43mget_loc\u001b[49m\u001b[43m(\u001b[49m\u001b[43mkey\u001b[49m\u001b[43m)\u001b[49m\n\u001b[0;32m   3506\u001b[0m \u001b[38;5;28;01mif\u001b[39;00m is_integer(indexer):\n\u001b[0;32m   3507\u001b[0m     indexer \u001b[38;5;241m=\u001b[39m [indexer]\n",
      "File \u001b[1;32m~\\anaconda3\\lib\\site-packages\\pandas\\core\\indexes\\base.py:3623\u001b[0m, in \u001b[0;36mIndex.get_loc\u001b[1;34m(self, key, method, tolerance)\u001b[0m\n\u001b[0;32m   3621\u001b[0m     \u001b[38;5;28;01mreturn\u001b[39;00m \u001b[38;5;28mself\u001b[39m\u001b[38;5;241m.\u001b[39m_engine\u001b[38;5;241m.\u001b[39mget_loc(casted_key)\n\u001b[0;32m   3622\u001b[0m \u001b[38;5;28;01mexcept\u001b[39;00m \u001b[38;5;167;01mKeyError\u001b[39;00m \u001b[38;5;28;01mas\u001b[39;00m err:\n\u001b[1;32m-> 3623\u001b[0m     \u001b[38;5;28;01mraise\u001b[39;00m \u001b[38;5;167;01mKeyError\u001b[39;00m(key) \u001b[38;5;28;01mfrom\u001b[39;00m \u001b[38;5;21;01merr\u001b[39;00m\n\u001b[0;32m   3624\u001b[0m \u001b[38;5;28;01mexcept\u001b[39;00m \u001b[38;5;167;01mTypeError\u001b[39;00m:\n\u001b[0;32m   3625\u001b[0m     \u001b[38;5;66;03m# If we have a listlike key, _check_indexing_error will raise\u001b[39;00m\n\u001b[0;32m   3626\u001b[0m     \u001b[38;5;66;03m#  InvalidIndexError. Otherwise we fall through and re-raise\u001b[39;00m\n\u001b[0;32m   3627\u001b[0m     \u001b[38;5;66;03m#  the TypeError.\u001b[39;00m\n\u001b[0;32m   3628\u001b[0m     \u001b[38;5;28mself\u001b[39m\u001b[38;5;241m.\u001b[39m_check_indexing_error(key)\n",
      "\u001b[1;31mKeyError\u001b[0m: 'D09A091'"
     ]
    },
    {
     "data": {
      "image/png": "[encoded data removed]",
      "text/plain": [
       "<Figure size 1080x360 with 1 Axes>"
      ]
     },
     "metadata": {
      "needs_background": "light"
     },
     "output_type": "display_data"
    }
   ],
   "source": [
    "#Graph with months\n",
    "for i in range(len(stations.stname)):\n",
    "    plt=hg_efas[stations.stname.iloc[i]].plot(kind='line',label=f'{stations.stname.iloc[i]}_efas',color ='orange',figsize=(15,5))\n",
    "    plt.set_ylabel('Discharge')\n",
    "    plt.set_xlabel('Time')\n",
    "    hg_agi[stations.stname.iloc[i]].plot(kind='line',label=f'{stations.stname.iloc[i]}_agi',color= 'blue')\n",
    "    # Minor ticks every month.\n",
    "    fmt_month = mdates.MonthLocator()\n",
    "    # Minor ticks every year.\n",
    "    fmt_year = mdates.YearLocator()\n",
    "    plt.xaxis.set_minor_locator(fmt_month)\n",
    "    # '%b' to get the names of the month\n",
    "    # '%m' to get months as number\n",
    "    plt.xaxis.set_minor_formatter(mdates.DateFormatter('%m'))\n",
    "    plt.xaxis.set_major_locator(fmt_year)\n",
    "    plt.xaxis.set_major_formatter(mdates.DateFormatter('%m'))\n",
    "\n",
    "    # fontsize for month labels\n",
    "    plt.tick_params(labelsize=8, which='both')\n",
    "    # create a second x-axis beneath the first x-axis to show the year in YYYY format\n",
    "    sec_xaxis = plt.secondary_xaxis(-0.1)\n",
    "    sec_xaxis.xaxis.set_major_locator(fmt_year)\n",
    "    sec_xaxis.xaxis.set_major_formatter(mdates.DateFormatter('%Y'))\n",
    "    plt.set_xlabel('Time')\n",
    "\n",
    "    ##start, end = plt.get_xlim()\n",
    "    ##plt.xaxis.set_ticks(np.arange(start, end))\n",
    "    plt.grid(zorder=0,linestyle='dotted', color='black')\n",
    "    plt.patch.set_facecolor(\"#B0EAAD\")\n",
    "    plt.legend()\n",
    "    plt.get_figure().savefig(f\"Plt_Antalya/{stations.stname.iloc[i]}.png\",bbox_inches='tight',facecolor=\"#B0EAAD\")\n",
    "    plt.cla()\n",
    "    # Blue for agi, orange for efas data"
   ]
  },
  {
   "cell_type": "markdown",
   "id": "c07321ba",
   "metadata": {},
   "source": [
    "![green-divider](https://user-images.githubusercontent.com/7065401/52071924-c003ad80-2562-11e9-8297-1c6595f8a7ff.png)"
   ]
  },
  {
   "cell_type": "markdown",
   "id": "0bc9b943",
   "metadata": {},
   "source": [
    "# Selecting chosen data from agi and efas_dis24 datas"
   ]
  },
  {
   "cell_type": "markdown",
   "id": "d3b8ed4d",
   "metadata": {},
   "source": [
    "agi=pd.read_excel(\"Agi_2005-2015.xlsx\")\n",
    "dis24=pd.read_excel('flw_dis24_2005-2015.xlsx')\n",
    "chosen=pd.read_excel(\"chosen_ky.xlsx\")\n",
    "#Upload agi efas_dis24 and chosen station datas as dataframe"
   ]
  },
  {
   "cell_type": "markdown",
   "id": "a8e2559b",
   "metadata": {},
   "source": [
    "dis24.columns.values\n",
    "#Checking column values"
   ]
  },
  {
   "cell_type": "markdown",
   "id": "7c6837ad",
   "metadata": {},
   "source": [
    "agi.columns.values"
   ]
  },
  {
   "cell_type": "markdown",
   "id": "5a624a20",
   "metadata": {},
   "source": [
    "chosen.stname.values\n",
    "# Taking only chosen stations"
   ]
  },
  {
   "cell_type": "markdown",
   "id": "19821aa3",
   "metadata": {},
   "source": [
    "lis=list(chosen.stname.values)\n",
    "# Write chosen stations as list"
   ]
  },
  {
   "cell_type": "markdown",
   "id": "96f14ad9",
   "metadata": {},
   "source": [
    "lis.append('datetime')\n",
    "# datetime not in the list so we append it"
   ]
  },
  {
   "cell_type": "markdown",
   "id": "9e6bf5a4",
   "metadata": {},
   "source": [
    "dis24.rename(columns = {'Historical_times':'datetime'}, inplace= True)\n",
    "# Efas_24 and agi excel sheets have different names for datetime so we change it"
   ]
  },
  {
   "cell_type": "markdown",
   "id": "f6106699",
   "metadata": {
    "scrolled": true
   },
   "source": [
    "lis\n",
    "# Checking lis values, looking for station name correctness and datetime value"
   ]
  },
  {
   "cell_type": "markdown",
   "id": "55b7a7e3",
   "metadata": {},
   "source": [
    "dis24_c = dis24[lis]\n",
    "# dis_c for dis24_chosen"
   ]
  },
  {
   "cell_type": "markdown",
   "id": "cf3433a9",
   "metadata": {},
   "source": [
    "dis24_c.set_index('datetime',inplace=True)\n",
    "#set index as datetime"
   ]
  },
  {
   "cell_type": "markdown",
   "id": "aed5f236",
   "metadata": {},
   "source": [
    "agi_c = agi[lis]"
   ]
  },
  {
   "cell_type": "markdown",
   "id": "0c0ffaa0",
   "metadata": {},
   "source": [
    "agi_c.set_index('datetime',inplace=True)"
   ]
  },
  {
   "cell_type": "markdown",
   "id": "61fee9d8",
   "metadata": {},
   "source": [
    "agi_c.to_excel('Agi_ky_2005-2015.xlsx')"
   ]
  },
  {
   "cell_type": "markdown",
   "id": "714ada3a",
   "metadata": {},
   "source": [
    "dis24_c.to_excel('Dis24_ky_2005-2015.xlsx')"
   ]
  }
 ],
 "metadata": {
  "kernelspec": {
   "display_name": "Python 3 (ipykernel)",
   "language": "python",
   "name": "python3"
  },
  "language_info": {
   "codemirror_mode": {
    "name": "ipython",
    "version": 3
   },
   "file_extension": ".py",
   "mimetype": "text/x-python",
   "name": "python",
   "nbconvert_exporter": "python",
   "pygments_lexer": "ipython3",
   "version": "3.9.12"
  }
 },
 "nbformat": 4,
 "nbformat_minor": 5
}
