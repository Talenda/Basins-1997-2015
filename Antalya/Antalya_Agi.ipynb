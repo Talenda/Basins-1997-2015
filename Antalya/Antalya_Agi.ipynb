{
 "cells": [
  {
   "cell_type": "code",
   "execution_count": 1,
   "id": "ce8c2d93",
   "metadata": {},
   "outputs": [],
   "source": [
    "import pandas as pd"
   ]
  },
  {
   "cell_type": "markdown",
   "id": "24e4f375",
   "metadata": {},
   "source": [
    "[Hex Color Codes](https://htmlcolorcodes.com/)"
   ]
  },
  {
   "cell_type": "markdown",
   "id": "7dfc3754",
   "metadata": {},
   "source": [
    "# <center><font color = \"#40E0D0\">Antalya <font><center>\n",
    "  "
   ]
  },
  {
   "cell_type": "code",
   "execution_count": 2,
   "id": "66d87804",
   "metadata": {},
   "outputs": [
    {
     "data": {
      "text/html": [
       "<div>\n",
       "<style scoped>\n",
       "    .dataframe tbody tr th:only-of-type {\n",
       "        vertical-align: middle;\n",
       "    }\n",
       "\n",
       "    .dataframe tbody tr th {\n",
       "        vertical-align: top;\n",
       "    }\n",
       "\n",
       "    .dataframe thead th {\n",
       "        text-align: right;\n",
       "    }\n",
       "</style>\n",
       "<table border=\"1\" class=\"dataframe\">\n",
       "  <thead>\n",
       "    <tr style=\"text-align: right;\">\n",
       "      <th></th>\n",
       "      <th>Unnamed: 0</th>\n",
       "      <th>stname</th>\n",
       "      <th>area</th>\n",
       "      <th>elev</th>\n",
       "      <th>east</th>\n",
       "      <th>north</th>\n",
       "    </tr>\n",
       "  </thead>\n",
       "  <tbody>\n",
       "    <tr>\n",
       "      <th>0</th>\n",
       "      <td>0</td>\n",
       "      <td>D09A002</td>\n",
       "      <td>61.70</td>\n",
       "      <td>1210</td>\n",
       "      <td>31.091111</td>\n",
       "      <td>37.711667</td>\n",
       "    </tr>\n",
       "    <tr>\n",
       "      <th>1</th>\n",
       "      <td>1</td>\n",
       "      <td>D09A006</td>\n",
       "      <td>195.00</td>\n",
       "      <td>38</td>\n",
       "      <td>32.616667</td>\n",
       "      <td>36.550000</td>\n",
       "    </tr>\n",
       "    <tr>\n",
       "      <th>2</th>\n",
       "      <td>2</td>\n",
       "      <td>D09A011</td>\n",
       "      <td>130.70</td>\n",
       "      <td>1190</td>\n",
       "      <td>30.050000</td>\n",
       "      <td>37.133333</td>\n",
       "    </tr>\n",
       "    <tr>\n",
       "      <th>3</th>\n",
       "      <td>3</td>\n",
       "      <td>D09A013</td>\n",
       "      <td>195.00</td>\n",
       "      <td>33</td>\n",
       "      <td>32.616667</td>\n",
       "      <td>36.550000</td>\n",
       "    </tr>\n",
       "    <tr>\n",
       "      <th>4</th>\n",
       "      <td>4</td>\n",
       "      <td>D09A016</td>\n",
       "      <td>3728.00</td>\n",
       "      <td>0</td>\n",
       "      <td>30.869722</td>\n",
       "      <td>37.649444</td>\n",
       "    </tr>\n",
       "    <tr>\n",
       "      <th>5</th>\n",
       "      <td>5</td>\n",
       "      <td>D09A042</td>\n",
       "      <td>48.70</td>\n",
       "      <td>0</td>\n",
       "      <td>30.529722</td>\n",
       "      <td>37.643889</td>\n",
       "    </tr>\n",
       "    <tr>\n",
       "      <th>6</th>\n",
       "      <td>6</td>\n",
       "      <td>D09A056</td>\n",
       "      <td>1781.50</td>\n",
       "      <td>96</td>\n",
       "      <td>30.755833</td>\n",
       "      <td>36.938611</td>\n",
       "    </tr>\n",
       "    <tr>\n",
       "      <th>7</th>\n",
       "      <td>7</td>\n",
       "      <td>D09A057</td>\n",
       "      <td>185.00</td>\n",
       "      <td>945</td>\n",
       "      <td>30.954444</td>\n",
       "      <td>38.299444</td>\n",
       "    </tr>\n",
       "    <tr>\n",
       "      <th>8</th>\n",
       "      <td>8</td>\n",
       "      <td>D09A060</td>\n",
       "      <td>111.20</td>\n",
       "      <td>925</td>\n",
       "      <td>30.898611</td>\n",
       "      <td>37.839444</td>\n",
       "    </tr>\n",
       "    <tr>\n",
       "      <th>9</th>\n",
       "      <td>9</td>\n",
       "      <td>D09A065</td>\n",
       "      <td>103.48</td>\n",
       "      <td>1160</td>\n",
       "      <td>31.132778</td>\n",
       "      <td>38.390556</td>\n",
       "    </tr>\n",
       "    <tr>\n",
       "      <th>10</th>\n",
       "      <td>10</td>\n",
       "      <td>D09A067</td>\n",
       "      <td>303.20</td>\n",
       "      <td>100</td>\n",
       "      <td>31.622778</td>\n",
       "      <td>36.743889</td>\n",
       "    </tr>\n",
       "    <tr>\n",
       "      <th>11</th>\n",
       "      <td>11</td>\n",
       "      <td>D09A073</td>\n",
       "      <td>294.40</td>\n",
       "      <td>0</td>\n",
       "      <td>30.603333</td>\n",
       "      <td>38.134444</td>\n",
       "    </tr>\n",
       "    <tr>\n",
       "      <th>12</th>\n",
       "      <td>12</td>\n",
       "      <td>D09A075</td>\n",
       "      <td>988.96</td>\n",
       "      <td>940</td>\n",
       "      <td>30.983333</td>\n",
       "      <td>38.133333</td>\n",
       "    </tr>\n",
       "    <tr>\n",
       "      <th>13</th>\n",
       "      <td>13</td>\n",
       "      <td>D09A076</td>\n",
       "      <td>1.00</td>\n",
       "      <td>100</td>\n",
       "      <td>30.725833</td>\n",
       "      <td>36.966111</td>\n",
       "    </tr>\n",
       "    <tr>\n",
       "      <th>14</th>\n",
       "      <td>14</td>\n",
       "      <td>D09A084</td>\n",
       "      <td>45.40</td>\n",
       "      <td>100</td>\n",
       "      <td>32.066667</td>\n",
       "      <td>36.583333</td>\n",
       "    </tr>\n",
       "    <tr>\n",
       "      <th>15</th>\n",
       "      <td>15</td>\n",
       "      <td>D09A086</td>\n",
       "      <td>349.00</td>\n",
       "      <td>0</td>\n",
       "      <td>31.124167</td>\n",
       "      <td>37.624722</td>\n",
       "    </tr>\n",
       "    <tr>\n",
       "      <th>16</th>\n",
       "      <td>16</td>\n",
       "      <td>D09A088</td>\n",
       "      <td>130.90</td>\n",
       "      <td>0</td>\n",
       "      <td>31.978056</td>\n",
       "      <td>37.477500</td>\n",
       "    </tr>\n",
       "    <tr>\n",
       "      <th>17</th>\n",
       "      <td>17</td>\n",
       "      <td>D09A089</td>\n",
       "      <td>313.90</td>\n",
       "      <td>0</td>\n",
       "      <td>30.908333</td>\n",
       "      <td>37.463889</td>\n",
       "    </tr>\n",
       "    <tr>\n",
       "      <th>18</th>\n",
       "      <td>18</td>\n",
       "      <td>D09A091</td>\n",
       "      <td>0.00</td>\n",
       "      <td>300</td>\n",
       "      <td>2000.008333</td>\n",
       "      <td>35.010278</td>\n",
       "    </tr>\n",
       "    <tr>\n",
       "      <th>19</th>\n",
       "      <td>19</td>\n",
       "      <td>D09A095</td>\n",
       "      <td>164.00</td>\n",
       "      <td>160</td>\n",
       "      <td>30.467222</td>\n",
       "      <td>36.825000</td>\n",
       "    </tr>\n",
       "    <tr>\n",
       "      <th>20</th>\n",
       "      <td>20</td>\n",
       "      <td>D09A100</td>\n",
       "      <td>223.00</td>\n",
       "      <td>1067</td>\n",
       "      <td>31.156389</td>\n",
       "      <td>37.660278</td>\n",
       "    </tr>\n",
       "    <tr>\n",
       "      <th>21</th>\n",
       "      <td>21</td>\n",
       "      <td>D09A102</td>\n",
       "      <td>84.89</td>\n",
       "      <td>1060</td>\n",
       "      <td>30.125000</td>\n",
       "      <td>37.039167</td>\n",
       "    </tr>\n",
       "    <tr>\n",
       "      <th>22</th>\n",
       "      <td>22</td>\n",
       "      <td>D09A104</td>\n",
       "      <td>12.75</td>\n",
       "      <td>403</td>\n",
       "      <td>30.734167</td>\n",
       "      <td>37.202778</td>\n",
       "    </tr>\n",
       "    <tr>\n",
       "      <th>23</th>\n",
       "      <td>23</td>\n",
       "      <td>D09A106</td>\n",
       "      <td>32.21</td>\n",
       "      <td>1002</td>\n",
       "      <td>30.193611</td>\n",
       "      <td>37.328889</td>\n",
       "    </tr>\n",
       "    <tr>\n",
       "      <th>24</th>\n",
       "      <td>24</td>\n",
       "      <td>D09A110</td>\n",
       "      <td>53.48</td>\n",
       "      <td>975</td>\n",
       "      <td>37.125000</td>\n",
       "      <td>30.223333</td>\n",
       "    </tr>\n",
       "    <tr>\n",
       "      <th>25</th>\n",
       "      <td>25</td>\n",
       "      <td>D09A111</td>\n",
       "      <td>105.80</td>\n",
       "      <td>145</td>\n",
       "      <td>38.501389</td>\n",
       "      <td>36.891667</td>\n",
       "    </tr>\n",
       "  </tbody>\n",
       "</table>\n",
       "</div>"
      ],
      "text/plain": [
       "    Unnamed: 0   stname     area  elev         east      north\n",
       "0            0  D09A002    61.70  1210    31.091111  37.711667\n",
       "1            1  D09A006   195.00    38    32.616667  36.550000\n",
       "2            2  D09A011   130.70  1190    30.050000  37.133333\n",
       "3            3  D09A013   195.00    33    32.616667  36.550000\n",
       "4            4  D09A016  3728.00     0    30.869722  37.649444\n",
       "5            5  D09A042    48.70     0    30.529722  37.643889\n",
       "6            6  D09A056  1781.50    96    30.755833  36.938611\n",
       "7            7  D09A057   185.00   945    30.954444  38.299444\n",
       "8            8  D09A060   111.20   925    30.898611  37.839444\n",
       "9            9  D09A065   103.48  1160    31.132778  38.390556\n",
       "10          10  D09A067   303.20   100    31.622778  36.743889\n",
       "11          11  D09A073   294.40     0    30.603333  38.134444\n",
       "12          12  D09A075   988.96   940    30.983333  38.133333\n",
       "13          13  D09A076     1.00   100    30.725833  36.966111\n",
       "14          14  D09A084    45.40   100    32.066667  36.583333\n",
       "15          15  D09A086   349.00     0    31.124167  37.624722\n",
       "16          16  D09A088   130.90     0    31.978056  37.477500\n",
       "17          17  D09A089   313.90     0    30.908333  37.463889\n",
       "18          18  D09A091     0.00   300  2000.008333  35.010278\n",
       "19          19  D09A095   164.00   160    30.467222  36.825000\n",
       "20          20  D09A100   223.00  1067    31.156389  37.660278\n",
       "21          21  D09A102    84.89  1060    30.125000  37.039167\n",
       "22          22  D09A104    12.75   403    30.734167  37.202778\n",
       "23          23  D09A106    32.21  1002    30.193611  37.328889\n",
       "24          24  D09A110    53.48   975    37.125000  30.223333\n",
       "25          25  D09A111   105.80   145    38.501389  36.891667"
      ]
     },
     "execution_count": 2,
     "metadata": {},
     "output_type": "execute_result"
    }
   ],
   "source": [
    "place = \"C:/Users/user/Desktop/$Main_Tübitak/DSI_Uniform_Output/Antalya/\"\n",
    "stations= pd.read_excel(place +\"FlowBook_Antalya_Basin_1997_Station_Info.xlsx\")\n",
    "stations"
   ]
  },
  {
   "cell_type": "code",
   "execution_count": 3,
   "id": "ede4f25c",
   "metadata": {},
   "outputs": [],
   "source": [
    "for i in range(1998,2016):\n",
    "    xdata =pd.read_excel(place +f\"FlowBook_Antalya_Basin_{i}_Station_Info.xlsx.\")\n",
    "    stations = pd.concat([stations, xdata])    "
   ]
  },
  {
   "cell_type": "code",
   "execution_count": 4,
   "id": "af135724",
   "metadata": {},
   "outputs": [
    {
     "data": {
      "text/html": [
       "<div>\n",
       "<style scoped>\n",
       "    .dataframe tbody tr th:only-of-type {\n",
       "        vertical-align: middle;\n",
       "    }\n",
       "\n",
       "    .dataframe tbody tr th {\n",
       "        vertical-align: top;\n",
       "    }\n",
       "\n",
       "    .dataframe thead th {\n",
       "        text-align: right;\n",
       "    }\n",
       "</style>\n",
       "<table border=\"1\" class=\"dataframe\">\n",
       "  <thead>\n",
       "    <tr style=\"text-align: right;\">\n",
       "      <th></th>\n",
       "      <th>Unnamed: 0</th>\n",
       "      <th>stname</th>\n",
       "      <th>area</th>\n",
       "      <th>elev</th>\n",
       "      <th>east</th>\n",
       "      <th>north</th>\n",
       "    </tr>\n",
       "  </thead>\n",
       "  <tbody>\n",
       "    <tr>\n",
       "      <th>0</th>\n",
       "      <td>0</td>\n",
       "      <td>D09A002</td>\n",
       "      <td>61.7</td>\n",
       "      <td>1210</td>\n",
       "      <td>31.091111</td>\n",
       "      <td>37.711667</td>\n",
       "    </tr>\n",
       "    <tr>\n",
       "      <th>1</th>\n",
       "      <td>1</td>\n",
       "      <td>D09A006</td>\n",
       "      <td>195.0</td>\n",
       "      <td>38</td>\n",
       "      <td>32.616667</td>\n",
       "      <td>36.550000</td>\n",
       "    </tr>\n",
       "    <tr>\n",
       "      <th>2</th>\n",
       "      <td>2</td>\n",
       "      <td>D09A011</td>\n",
       "      <td>130.7</td>\n",
       "      <td>1190</td>\n",
       "      <td>30.050000</td>\n",
       "      <td>37.133333</td>\n",
       "    </tr>\n",
       "    <tr>\n",
       "      <th>3</th>\n",
       "      <td>3</td>\n",
       "      <td>D09A013</td>\n",
       "      <td>195.0</td>\n",
       "      <td>33</td>\n",
       "      <td>32.616667</td>\n",
       "      <td>36.550000</td>\n",
       "    </tr>\n",
       "    <tr>\n",
       "      <th>4</th>\n",
       "      <td>4</td>\n",
       "      <td>D09A016</td>\n",
       "      <td>3728.0</td>\n",
       "      <td>0</td>\n",
       "      <td>30.869722</td>\n",
       "      <td>37.649444</td>\n",
       "    </tr>\n",
       "    <tr>\n",
       "      <th>...</th>\n",
       "      <td>...</td>\n",
       "      <td>...</td>\n",
       "      <td>...</td>\n",
       "      <td>...</td>\n",
       "      <td>...</td>\n",
       "      <td>...</td>\n",
       "    </tr>\n",
       "    <tr>\n",
       "      <th>41</th>\n",
       "      <td>41</td>\n",
       "      <td>E09A029</td>\n",
       "      <td>30.2</td>\n",
       "      <td>163</td>\n",
       "      <td>30.438889</td>\n",
       "      <td>36.447500</td>\n",
       "    </tr>\n",
       "    <tr>\n",
       "      <th>42</th>\n",
       "      <td>42</td>\n",
       "      <td>E09A030</td>\n",
       "      <td>32.9</td>\n",
       "      <td>146</td>\n",
       "      <td>31.190278</td>\n",
       "      <td>37.149444</td>\n",
       "    </tr>\n",
       "    <tr>\n",
       "      <th>43</th>\n",
       "      <td>43</td>\n",
       "      <td>E09A031</td>\n",
       "      <td>4987.8</td>\n",
       "      <td>297</td>\n",
       "      <td>30.793889</td>\n",
       "      <td>37.510000</td>\n",
       "    </tr>\n",
       "    <tr>\n",
       "      <th>44</th>\n",
       "      <td>44</td>\n",
       "      <td>E09A032</td>\n",
       "      <td>90.9</td>\n",
       "      <td>150</td>\n",
       "      <td>31.293333</td>\n",
       "      <td>37.036944</td>\n",
       "    </tr>\n",
       "    <tr>\n",
       "      <th>45</th>\n",
       "      <td>45</td>\n",
       "      <td>E09A033</td>\n",
       "      <td>1592.0</td>\n",
       "      <td>415</td>\n",
       "      <td>31.168333</td>\n",
       "      <td>37.291111</td>\n",
       "    </tr>\n",
       "  </tbody>\n",
       "</table>\n",
       "<p>705 rows × 6 columns</p>\n",
       "</div>"
      ],
      "text/plain": [
       "    Unnamed: 0   stname    area  elev       east      north\n",
       "0            0  D09A002    61.7  1210  31.091111  37.711667\n",
       "1            1  D09A006   195.0    38  32.616667  36.550000\n",
       "2            2  D09A011   130.7  1190  30.050000  37.133333\n",
       "3            3  D09A013   195.0    33  32.616667  36.550000\n",
       "4            4  D09A016  3728.0     0  30.869722  37.649444\n",
       "..         ...      ...     ...   ...        ...        ...\n",
       "41          41  E09A029    30.2   163  30.438889  36.447500\n",
       "42          42  E09A030    32.9   146  31.190278  37.149444\n",
       "43          43  E09A031  4987.8   297  30.793889  37.510000\n",
       "44          44  E09A032    90.9   150  31.293333  37.036944\n",
       "45          45  E09A033  1592.0   415  31.168333  37.291111\n",
       "\n",
       "[705 rows x 6 columns]"
      ]
     },
     "execution_count": 4,
     "metadata": {},
     "output_type": "execute_result"
    }
   ],
   "source": [
    "stations"
   ]
  },
  {
   "cell_type": "code",
   "execution_count": 5,
   "id": "5a1df2bb",
   "metadata": {},
   "outputs": [
    {
     "data": {
      "text/plain": [
       "D09A002      19\n",
       "D09A011      19\n",
       "D09A013      19\n",
       "D09A006      19\n",
       "D09A095      19\n",
       "             ..\n",
       "D09A094       2\n",
       "D09A103       2\n",
       "E09A020       1\n",
       "D09A073       1\n",
       "D09A098_X     1\n",
       "Name: stname, Length: 69, dtype: int64"
      ]
     },
     "execution_count": 5,
     "metadata": {},
     "output_type": "execute_result"
    }
   ],
   "source": [
    "stations[\"stname\"].value_counts()"
   ]
  },
  {
   "cell_type": "code",
   "execution_count": 6,
   "id": "6433fd18",
   "metadata": {},
   "outputs": [],
   "source": [
    "stations = stations.drop_duplicates(subset=\"stname\")"
   ]
  },
  {
   "cell_type": "code",
   "execution_count": 7,
   "id": "7048f819",
   "metadata": {
    "scrolled": true
   },
   "outputs": [
    {
     "data": {
      "text/html": [
       "<div>\n",
       "<style scoped>\n",
       "    .dataframe tbody tr th:only-of-type {\n",
       "        vertical-align: middle;\n",
       "    }\n",
       "\n",
       "    .dataframe tbody tr th {\n",
       "        vertical-align: top;\n",
       "    }\n",
       "\n",
       "    .dataframe thead th {\n",
       "        text-align: right;\n",
       "    }\n",
       "</style>\n",
       "<table border=\"1\" class=\"dataframe\">\n",
       "  <thead>\n",
       "    <tr style=\"text-align: right;\">\n",
       "      <th></th>\n",
       "      <th>Unnamed: 0</th>\n",
       "      <th>stname</th>\n",
       "      <th>area</th>\n",
       "      <th>elev</th>\n",
       "      <th>east</th>\n",
       "      <th>north</th>\n",
       "    </tr>\n",
       "  </thead>\n",
       "  <tbody>\n",
       "    <tr>\n",
       "      <th>0</th>\n",
       "      <td>0</td>\n",
       "      <td>D09A002</td>\n",
       "      <td>61.7</td>\n",
       "      <td>1210</td>\n",
       "      <td>31.091111</td>\n",
       "      <td>37.711667</td>\n",
       "    </tr>\n",
       "    <tr>\n",
       "      <th>1</th>\n",
       "      <td>1</td>\n",
       "      <td>D09A006</td>\n",
       "      <td>195.0</td>\n",
       "      <td>38</td>\n",
       "      <td>32.616667</td>\n",
       "      <td>36.550000</td>\n",
       "    </tr>\n",
       "    <tr>\n",
       "      <th>2</th>\n",
       "      <td>2</td>\n",
       "      <td>D09A011</td>\n",
       "      <td>130.7</td>\n",
       "      <td>1190</td>\n",
       "      <td>30.050000</td>\n",
       "      <td>37.133333</td>\n",
       "    </tr>\n",
       "    <tr>\n",
       "      <th>3</th>\n",
       "      <td>3</td>\n",
       "      <td>D09A013</td>\n",
       "      <td>195.0</td>\n",
       "      <td>33</td>\n",
       "      <td>32.616667</td>\n",
       "      <td>36.550000</td>\n",
       "    </tr>\n",
       "    <tr>\n",
       "      <th>4</th>\n",
       "      <td>4</td>\n",
       "      <td>D09A016</td>\n",
       "      <td>3728.0</td>\n",
       "      <td>0</td>\n",
       "      <td>30.869722</td>\n",
       "      <td>37.649444</td>\n",
       "    </tr>\n",
       "    <tr>\n",
       "      <th>...</th>\n",
       "      <td>...</td>\n",
       "      <td>...</td>\n",
       "      <td>...</td>\n",
       "      <td>...</td>\n",
       "      <td>...</td>\n",
       "      <td>...</td>\n",
       "    </tr>\n",
       "    <tr>\n",
       "      <th>47</th>\n",
       "      <td>47</td>\n",
       "      <td>E09A030</td>\n",
       "      <td>32.9</td>\n",
       "      <td>146</td>\n",
       "      <td>31.190278</td>\n",
       "      <td>37.149444</td>\n",
       "    </tr>\n",
       "    <tr>\n",
       "      <th>48</th>\n",
       "      <td>48</td>\n",
       "      <td>E09A031</td>\n",
       "      <td>4987.8</td>\n",
       "      <td>297</td>\n",
       "      <td>30.793889</td>\n",
       "      <td>37.510000</td>\n",
       "    </tr>\n",
       "    <tr>\n",
       "      <th>49</th>\n",
       "      <td>49</td>\n",
       "      <td>E09A032</td>\n",
       "      <td>90.9</td>\n",
       "      <td>150</td>\n",
       "      <td>31.293333</td>\n",
       "      <td>37.036944</td>\n",
       "    </tr>\n",
       "    <tr>\n",
       "      <th>50</th>\n",
       "      <td>50</td>\n",
       "      <td>E09A033</td>\n",
       "      <td>1592.0</td>\n",
       "      <td>415</td>\n",
       "      <td>31.168333</td>\n",
       "      <td>37.291111</td>\n",
       "    </tr>\n",
       "    <tr>\n",
       "      <th>23</th>\n",
       "      <td>23</td>\n",
       "      <td>D09A098_X</td>\n",
       "      <td>5546.4</td>\n",
       "      <td>73</td>\n",
       "      <td>30.805000</td>\n",
       "      <td>37.270833</td>\n",
       "    </tr>\n",
       "  </tbody>\n",
       "</table>\n",
       "<p>69 rows × 6 columns</p>\n",
       "</div>"
      ],
      "text/plain": [
       "    Unnamed: 0     stname    area  elev       east      north\n",
       "0            0    D09A002    61.7  1210  31.091111  37.711667\n",
       "1            1    D09A006   195.0    38  32.616667  36.550000\n",
       "2            2    D09A011   130.7  1190  30.050000  37.133333\n",
       "3            3    D09A013   195.0    33  32.616667  36.550000\n",
       "4            4    D09A016  3728.0     0  30.869722  37.649444\n",
       "..         ...        ...     ...   ...        ...        ...\n",
       "47          47    E09A030    32.9   146  31.190278  37.149444\n",
       "48          48    E09A031  4987.8   297  30.793889  37.510000\n",
       "49          49    E09A032    90.9   150  31.293333  37.036944\n",
       "50          50    E09A033  1592.0   415  31.168333  37.291111\n",
       "23          23  D09A098_X  5546.4    73  30.805000  37.270833\n",
       "\n",
       "[69 rows x 6 columns]"
      ]
     },
     "execution_count": 7,
     "metadata": {},
     "output_type": "execute_result"
    }
   ],
   "source": [
    "stations"
   ]
  },
  {
   "cell_type": "code",
   "execution_count": 8,
   "id": "46309a34",
   "metadata": {},
   "outputs": [],
   "source": [
    "del stations[\"Unnamed: 0\"]"
   ]
  },
  {
   "cell_type": "code",
   "execution_count": 9,
   "id": "1585849f",
   "metadata": {},
   "outputs": [],
   "source": [
    "stations.to_excel(\"Stations_Antalya.xlsx\")"
   ]
  },
  {
   "cell_type": "code",
   "execution_count": 10,
   "id": "42946522",
   "metadata": {},
   "outputs": [],
   "source": [
    "stations.to_csv(\"Stations_Antalya.csv\")"
   ]
  },
  {
   "cell_type": "markdown",
   "id": "670da764",
   "metadata": {},
   "source": [
    "![purple-divider](https://user-images.githubusercontent.com/7065401/52071927-c1cd7100-2562-11e9-908a-dde91ba14e59.png)"
   ]
  },
  {
   "cell_type": "markdown",
   "id": "84d7239f",
   "metadata": {},
   "source": [
    "## <center><font color= \"#8E44AD\">Only stations <font><center>"
   ]
  },
  {
   "cell_type": "code",
   "execution_count": 11,
   "id": "bf9f0341",
   "metadata": {},
   "outputs": [],
   "source": [
    "station_name = stations[\"stname\"].drop_duplicates()"
   ]
  },
  {
   "cell_type": "code",
   "execution_count": 12,
   "id": "f85d764d",
   "metadata": {
    "scrolled": false
   },
   "outputs": [
    {
     "data": {
      "text/plain": [
       "0       D09A002\n",
       "1       D09A006\n",
       "2       D09A011\n",
       "3       D09A013\n",
       "4       D09A016\n",
       "        ...    \n",
       "47      E09A030\n",
       "48      E09A031\n",
       "49      E09A032\n",
       "50      E09A033\n",
       "23    D09A098_X\n",
       "Name: stname, Length: 69, dtype: object"
      ]
     },
     "execution_count": 12,
     "metadata": {},
     "output_type": "execute_result"
    }
   ],
   "source": [
    "station_name"
   ]
  },
  {
   "cell_type": "markdown",
   "id": "bdab7bf0",
   "metadata": {},
   "source": [
    "![purple-divider](https://user-images.githubusercontent.com/7065401/52071927-c1cd7100-2562-11e9-908a-dde91ba14e59.png)"
   ]
  },
  {
   "cell_type": "markdown",
   "id": "21e200df",
   "metadata": {},
   "source": [
    "# <center><font color= \"red\">Antalya_DSİ_Data<font><center>"
   ]
  },
  {
   "cell_type": "code",
   "execution_count": 13,
   "id": "a06a0812",
   "metadata": {},
   "outputs": [],
   "source": [
    "stations = pd.read_excel('Stations_Antalya.xlsx', index_col=0)\n",
    "df_total = pd.DataFrame(columns = stations.stname)\n",
    "\n",
    "for i in range(1997,2016):\n",
    "    x= pd.read_excel(place +f\"FlowBook_Antalya_Basin_{i}_FlowTimeSeries.xlsx\")\n",
    "    df_total = pd.concat([df_total, x])  "
   ]
  },
  {
   "cell_type": "code",
   "execution_count": 14,
   "id": "e0ecdf2a",
   "metadata": {},
   "outputs": [],
   "source": [
    "df_total.set_index(\"datetime\", inplace=True)"
   ]
  },
  {
   "cell_type": "code",
   "execution_count": 15,
   "id": "a8bf849a",
   "metadata": {},
   "outputs": [],
   "source": [
    "df_total.to_excel(\"Agi_Antalya_1997-2015.xlsx\")"
   ]
  },
  {
   "cell_type": "markdown",
   "id": "0cdc852c",
   "metadata": {},
   "source": [
    "![purple-divider](https://user-images.githubusercontent.com/7065401/52071927-c1cd7100-2562-11e9-908a-dde91ba14e59.png)"
   ]
  },
  {
   "cell_type": "markdown",
   "id": "ab82a16e",
   "metadata": {},
   "source": [
    "# <center><font color= \"red\">Null Count<font><center>"
   ]
  },
  {
   "cell_type": "code",
   "execution_count": 16,
   "id": "2bb4e36d",
   "metadata": {
    "scrolled": true
   },
   "outputs": [
    {
     "data": {
      "text/plain": [
       "D09A098_X    6939\n",
       "D09A073      6574\n",
       "E09A020      6573\n",
       "D09A094      6209\n",
       "D09A103      6208\n",
       "             ... \n",
       "D09A060         0\n",
       "D09A056         0\n",
       "D09A013         0\n",
       "D09A011         0\n",
       "data            0\n",
       "Length: 70, dtype: int64"
      ]
     },
     "execution_count": 16,
     "metadata": {},
     "output_type": "execute_result"
    }
   ],
   "source": [
    "df_total.isnull().sum().sort_values(ascending=False)"
   ]
  },
  {
   "cell_type": "code",
   "execution_count": 17,
   "id": "e52af1cc",
   "metadata": {
    "scrolled": true
   },
   "outputs": [],
   "source": [
    "lis=list(df_total.isnull().sum())"
   ]
  },
  {
   "cell_type": "code",
   "execution_count": 18,
   "id": "6fdb9180",
   "metadata": {},
   "outputs": [],
   "source": [
    "stations[\"null\"]= 101"
   ]
  },
  {
   "cell_type": "markdown",
   "id": "48fd5ff1",
   "metadata": {},
   "source": [
    "lis"
   ]
  },
  {
   "cell_type": "code",
   "execution_count": 19,
   "id": "1ce2d61c",
   "metadata": {},
   "outputs": [
    {
     "name": "stderr",
     "output_type": "stream",
     "text": [
      "C:\\Users\\user\\AppData\\Local\\Temp\\ipykernel_5892\\346432180.py:2: SettingWithCopyWarning: \n",
      "A value is trying to be set on a copy of a slice from a DataFrame\n",
      "\n",
      "See the caveats in the documentation: https://pandas.pydata.org/pandas-docs/stable/user_guide/indexing.html#returning-a-view-versus-a-copy\n",
      "  stations[\"null\"].iloc[i]=lis[i]\n"
     ]
    }
   ],
   "source": [
    "for i in range(len(stations[\"stname\"])):\n",
    "    stations[\"null\"].iloc[i]=lis[i]\n"
   ]
  },
  {
   "cell_type": "code",
   "execution_count": 20,
   "id": "10a801ac",
   "metadata": {
    "scrolled": false
   },
   "outputs": [
    {
     "data": {
      "text/html": [
       "<div>\n",
       "<style scoped>\n",
       "    .dataframe tbody tr th:only-of-type {\n",
       "        vertical-align: middle;\n",
       "    }\n",
       "\n",
       "    .dataframe tbody tr th {\n",
       "        vertical-align: top;\n",
       "    }\n",
       "\n",
       "    .dataframe thead th {\n",
       "        text-align: right;\n",
       "    }\n",
       "</style>\n",
       "<table border=\"1\" class=\"dataframe\">\n",
       "  <thead>\n",
       "    <tr style=\"text-align: right;\">\n",
       "      <th></th>\n",
       "      <th>stname</th>\n",
       "      <th>area</th>\n",
       "      <th>elev</th>\n",
       "      <th>east</th>\n",
       "      <th>north</th>\n",
       "      <th>null</th>\n",
       "    </tr>\n",
       "  </thead>\n",
       "  <tbody>\n",
       "    <tr>\n",
       "      <th>0</th>\n",
       "      <td>D09A002</td>\n",
       "      <td>61.7</td>\n",
       "      <td>1210</td>\n",
       "      <td>31.091111</td>\n",
       "      <td>37.711667</td>\n",
       "      <td>0</td>\n",
       "    </tr>\n",
       "    <tr>\n",
       "      <th>1</th>\n",
       "      <td>D09A006</td>\n",
       "      <td>195.0</td>\n",
       "      <td>38</td>\n",
       "      <td>32.616667</td>\n",
       "      <td>36.550000</td>\n",
       "      <td>1</td>\n",
       "    </tr>\n",
       "    <tr>\n",
       "      <th>2</th>\n",
       "      <td>D09A011</td>\n",
       "      <td>130.7</td>\n",
       "      <td>1190</td>\n",
       "      <td>30.050000</td>\n",
       "      <td>37.133333</td>\n",
       "      <td>0</td>\n",
       "    </tr>\n",
       "    <tr>\n",
       "      <th>3</th>\n",
       "      <td>D09A013</td>\n",
       "      <td>195.0</td>\n",
       "      <td>33</td>\n",
       "      <td>32.616667</td>\n",
       "      <td>36.550000</td>\n",
       "      <td>0</td>\n",
       "    </tr>\n",
       "    <tr>\n",
       "      <th>4</th>\n",
       "      <td>D09A016</td>\n",
       "      <td>3728.0</td>\n",
       "      <td>0</td>\n",
       "      <td>30.869722</td>\n",
       "      <td>37.649444</td>\n",
       "      <td>2922</td>\n",
       "    </tr>\n",
       "    <tr>\n",
       "      <th>...</th>\n",
       "      <td>...</td>\n",
       "      <td>...</td>\n",
       "      <td>...</td>\n",
       "      <td>...</td>\n",
       "      <td>...</td>\n",
       "      <td>...</td>\n",
       "    </tr>\n",
       "    <tr>\n",
       "      <th>47</th>\n",
       "      <td>E09A030</td>\n",
       "      <td>32.9</td>\n",
       "      <td>146</td>\n",
       "      <td>31.190278</td>\n",
       "      <td>37.149444</td>\n",
       "      <td>5695</td>\n",
       "    </tr>\n",
       "    <tr>\n",
       "      <th>48</th>\n",
       "      <td>E09A031</td>\n",
       "      <td>4987.8</td>\n",
       "      <td>297</td>\n",
       "      <td>30.793889</td>\n",
       "      <td>37.510000</td>\n",
       "      <td>5843</td>\n",
       "    </tr>\n",
       "    <tr>\n",
       "      <th>49</th>\n",
       "      <td>E09A032</td>\n",
       "      <td>90.9</td>\n",
       "      <td>150</td>\n",
       "      <td>31.293333</td>\n",
       "      <td>37.036944</td>\n",
       "      <td>5478</td>\n",
       "    </tr>\n",
       "    <tr>\n",
       "      <th>50</th>\n",
       "      <td>E09A033</td>\n",
       "      <td>1592.0</td>\n",
       "      <td>415</td>\n",
       "      <td>31.168333</td>\n",
       "      <td>37.291111</td>\n",
       "      <td>5478</td>\n",
       "    </tr>\n",
       "    <tr>\n",
       "      <th>23</th>\n",
       "      <td>D09A098_X</td>\n",
       "      <td>5546.4</td>\n",
       "      <td>73</td>\n",
       "      <td>30.805000</td>\n",
       "      <td>37.270833</td>\n",
       "      <td>6939</td>\n",
       "    </tr>\n",
       "  </tbody>\n",
       "</table>\n",
       "<p>69 rows × 6 columns</p>\n",
       "</div>"
      ],
      "text/plain": [
       "       stname    area  elev       east      north  null\n",
       "0     D09A002    61.7  1210  31.091111  37.711667     0\n",
       "1     D09A006   195.0    38  32.616667  36.550000     1\n",
       "2     D09A011   130.7  1190  30.050000  37.133333     0\n",
       "3     D09A013   195.0    33  32.616667  36.550000     0\n",
       "4     D09A016  3728.0     0  30.869722  37.649444  2922\n",
       "..        ...     ...   ...        ...        ...   ...\n",
       "47    E09A030    32.9   146  31.190278  37.149444  5695\n",
       "48    E09A031  4987.8   297  30.793889  37.510000  5843\n",
       "49    E09A032    90.9   150  31.293333  37.036944  5478\n",
       "50    E09A033  1592.0   415  31.168333  37.291111  5478\n",
       "23  D09A098_X  5546.4    73  30.805000  37.270833  6939\n",
       "\n",
       "[69 rows x 6 columns]"
      ]
     },
     "execution_count": 20,
     "metadata": {},
     "output_type": "execute_result"
    }
   ],
   "source": [
    "stations"
   ]
  },
  {
   "cell_type": "code",
   "execution_count": 21,
   "id": "14fa2092",
   "metadata": {},
   "outputs": [],
   "source": [
    "stations.to_excel(\"Null_Antalya.xlsx\")"
   ]
  },
  {
   "cell_type": "markdown",
   "id": "bcfbc3d5",
   "metadata": {},
   "source": [
    "![purple-divider](https://user-images.githubusercontent.com/7065401/52071927-c1cd7100-2562-11e9-908a-dde91ba14e59.png)"
   ]
  },
  {
   "cell_type": "markdown",
   "id": "3eb2f997",
   "metadata": {},
   "source": [
    "# <center><font color= \"red\">Hydrograph Sample<font><center>"
   ]
  },
  {
   "cell_type": "code",
   "execution_count": 22,
   "id": "1910bf0f",
   "metadata": {},
   "outputs": [],
   "source": [
    "import matplotlib.pyplot as plt\n",
    "from matplotlib import dates as mdates"
   ]
  },
  {
   "cell_type": "code",
   "execution_count": 23,
   "id": "886e1b07",
   "metadata": {},
   "outputs": [],
   "source": [
    "hg_agi=df_total"
   ]
  },
  {
   "cell_type": "code",
   "execution_count": 24,
   "id": "0149d4e9",
   "metadata": {
    "scrolled": true
   },
   "outputs": [
    {
     "data": {
      "image/png": "[encoded data removed]",
      "text/plain": [
       "<Figure size 1080x360 with 1 Axes>"
      ]
     },
     "metadata": {
      "needs_background": "light"
     },
     "output_type": "display_data"
    }
   ],
   "source": [
    "#D09A011\n",
    "plt=hg_agi.D09A011.plot(kind='line',label='D09A011_agi',color= 'blue',figsize=(15,5))\n",
    "plt.set_ylabel('Discharge')\n",
    "plt.set_xlabel('Time')\n",
    "# Minor ticks every month.\n",
    "fmt_month = mdates.MonthLocator()\n",
    "# Minor ticks every year.\n",
    "fmt_year = mdates.YearLocator()\n",
    "plt.xaxis.set_minor_locator(fmt_month)\n",
    "# '%b' to get the names of the month\n",
    "# '%m' to get months as number\n",
    "plt.xaxis.set_minor_formatter(mdates.DateFormatter('%m'))\n",
    "plt.xaxis.set_major_locator(fmt_year)\n",
    "plt.xaxis.set_major_formatter(mdates.DateFormatter('%m'))\n",
    "\n",
    "# fontsize for month labels\n",
    "plt.tick_params(labelsize=8, which='both')\n",
    "# create a second x-axis beneath the first x-axis to show the year in YYYY format\n",
    "sec_xaxis = plt.secondary_xaxis(-0.1)\n",
    "sec_xaxis.xaxis.set_major_locator(fmt_year)\n",
    "sec_xaxis.xaxis.set_major_formatter(mdates.DateFormatter('%Y'))\n",
    "plt.set_xlabel('Time')\n",
    "\n",
    "##start, end = plt.get_xlim()\n",
    "##plt.xaxis.set_ticks(np.arange(start, end))\n",
    "plt.grid(zorder=0,linestyle='dotted', color='black')\n",
    "#Zorder for line drawings\n",
    "plt.legend()\n",
    "plt.patch.set_facecolor('#ADEAE4')\n",
    "##plt.get_figure().savefig(f\"plt/D09A011.png\",bbox_inches='tight')\n",
    "# Blue for agi, orange for efas data"
   ]
  },
  {
   "cell_type": "markdown",
   "id": "85c0c98f",
   "metadata": {},
   "source": [
    "![purple-divider](https://user-images.githubusercontent.com/7065401/52071927-c1cd7100-2562-11e9-908a-dde91ba14e59.png)"
   ]
  },
  {
   "cell_type": "markdown",
   "id": "d7ff52ce",
   "metadata": {},
   "source": [
    "# <center><font color= \"red\">Hydrograph<font><center>"
   ]
  },
  {
   "cell_type": "code",
   "execution_count": 25,
   "id": "9026b7ea",
   "metadata": {},
   "outputs": [
    {
     "ename": "TypeError",
     "evalue": "no numeric data to plot",
     "output_type": "error",
     "traceback": [
      "\u001b[1;31m---------------------------------------------------------------------------\u001b[0m",
      "\u001b[1;31mTypeError\u001b[0m                                 Traceback (most recent call last)",
      "Input \u001b[1;32mIn [25]\u001b[0m, in \u001b[0;36m<cell line: 2>\u001b[1;34m()\u001b[0m\n\u001b[0;32m      1\u001b[0m \u001b[38;5;66;03m#Graph with months\u001b[39;00m\n\u001b[0;32m      2\u001b[0m \u001b[38;5;28;01mfor\u001b[39;00m i \u001b[38;5;129;01min\u001b[39;00m \u001b[38;5;28mrange\u001b[39m(\u001b[38;5;28mlen\u001b[39m(stations\u001b[38;5;241m.\u001b[39mstname)):\n\u001b[1;32m----> 3\u001b[0m     plt\u001b[38;5;241m=\u001b[39m\u001b[43mhg_agi\u001b[49m\u001b[43m[\u001b[49m\u001b[43mstations\u001b[49m\u001b[38;5;241;43m.\u001b[39;49m\u001b[43mstname\u001b[49m\u001b[38;5;241;43m.\u001b[39;49m\u001b[43miloc\u001b[49m\u001b[43m[\u001b[49m\u001b[43mi\u001b[49m\u001b[43m]\u001b[49m\u001b[43m]\u001b[49m\u001b[38;5;241;43m.\u001b[39;49m\u001b[43mplot\u001b[49m\u001b[43m(\u001b[49m\u001b[43mkind\u001b[49m\u001b[38;5;241;43m=\u001b[39;49m\u001b[38;5;124;43m'\u001b[39;49m\u001b[38;5;124;43mline\u001b[39;49m\u001b[38;5;124;43m'\u001b[39;49m\u001b[43m,\u001b[49m\u001b[43mlabel\u001b[49m\u001b[38;5;241;43m=\u001b[39;49m\u001b[38;5;124;43mf\u001b[39;49m\u001b[38;5;124;43m'\u001b[39;49m\u001b[38;5;132;43;01m{\u001b[39;49;00m\u001b[43mstations\u001b[49m\u001b[38;5;241;43m.\u001b[39;49m\u001b[43mstname\u001b[49m\u001b[38;5;241;43m.\u001b[39;49m\u001b[43miloc\u001b[49m\u001b[43m[\u001b[49m\u001b[43mi\u001b[49m\u001b[43m]\u001b[49m\u001b[38;5;132;43;01m}\u001b[39;49;00m\u001b[38;5;124;43m_agi\u001b[39;49m\u001b[38;5;124;43m'\u001b[39;49m\u001b[43m,\u001b[49m\u001b[43mcolor\u001b[49m\u001b[38;5;241;43m=\u001b[39;49m\u001b[43m \u001b[49m\u001b[38;5;124;43m'\u001b[39;49m\u001b[38;5;124;43mblue\u001b[39;49m\u001b[38;5;124;43m'\u001b[39;49m\u001b[43m,\u001b[49m\u001b[43mfigsize\u001b[49m\u001b[38;5;241;43m=\u001b[39;49m\u001b[43m(\u001b[49m\u001b[38;5;241;43m15\u001b[39;49m\u001b[43m,\u001b[49m\u001b[38;5;241;43m5\u001b[39;49m\u001b[43m)\u001b[49m\u001b[43m)\u001b[49m\n\u001b[0;32m      4\u001b[0m     plt\u001b[38;5;241m.\u001b[39mset_ylabel(\u001b[38;5;124m'\u001b[39m\u001b[38;5;124mDischarge\u001b[39m\u001b[38;5;124m'\u001b[39m)\n\u001b[0;32m      5\u001b[0m     plt\u001b[38;5;241m.\u001b[39mset_xlabel(\u001b[38;5;124m'\u001b[39m\u001b[38;5;124mTime\u001b[39m\u001b[38;5;124m'\u001b[39m)\n",
      "File \u001b[1;32m~\\anaconda3\\lib\\site-packages\\pandas\\plotting\\_core.py:972\u001b[0m, in \u001b[0;36mPlotAccessor.__call__\u001b[1;34m(self, *args, **kwargs)\u001b[0m\n\u001b[0;32m    969\u001b[0m             label_name \u001b[38;5;241m=\u001b[39m label_kw \u001b[38;5;129;01mor\u001b[39;00m data\u001b[38;5;241m.\u001b[39mcolumns\n\u001b[0;32m    970\u001b[0m             data\u001b[38;5;241m.\u001b[39mcolumns \u001b[38;5;241m=\u001b[39m label_name\n\u001b[1;32m--> 972\u001b[0m \u001b[38;5;28;01mreturn\u001b[39;00m plot_backend\u001b[38;5;241m.\u001b[39mplot(data, kind\u001b[38;5;241m=\u001b[39mkind, \u001b[38;5;241m*\u001b[39m\u001b[38;5;241m*\u001b[39mkwargs)\n",
      "File \u001b[1;32m~\\anaconda3\\lib\\site-packages\\pandas\\plotting\\_matplotlib\\__init__.py:71\u001b[0m, in \u001b[0;36mplot\u001b[1;34m(data, kind, **kwargs)\u001b[0m\n\u001b[0;32m     69\u001b[0m         kwargs[\u001b[38;5;124m\"\u001b[39m\u001b[38;5;124max\u001b[39m\u001b[38;5;124m\"\u001b[39m] \u001b[38;5;241m=\u001b[39m \u001b[38;5;28mgetattr\u001b[39m(ax, \u001b[38;5;124m\"\u001b[39m\u001b[38;5;124mleft_ax\u001b[39m\u001b[38;5;124m\"\u001b[39m, ax)\n\u001b[0;32m     70\u001b[0m plot_obj \u001b[38;5;241m=\u001b[39m PLOT_CLASSES[kind](data, \u001b[38;5;241m*\u001b[39m\u001b[38;5;241m*\u001b[39mkwargs)\n\u001b[1;32m---> 71\u001b[0m \u001b[43mplot_obj\u001b[49m\u001b[38;5;241;43m.\u001b[39;49m\u001b[43mgenerate\u001b[49m\u001b[43m(\u001b[49m\u001b[43m)\u001b[49m\n\u001b[0;32m     72\u001b[0m plot_obj\u001b[38;5;241m.\u001b[39mdraw()\n\u001b[0;32m     73\u001b[0m \u001b[38;5;28;01mreturn\u001b[39;00m plot_obj\u001b[38;5;241m.\u001b[39mresult\n",
      "File \u001b[1;32m~\\anaconda3\\lib\\site-packages\\pandas\\plotting\\_matplotlib\\core.py:327\u001b[0m, in \u001b[0;36mMPLPlot.generate\u001b[1;34m(self)\u001b[0m\n\u001b[0;32m    325\u001b[0m \u001b[38;5;28;01mdef\u001b[39;00m \u001b[38;5;21mgenerate\u001b[39m(\u001b[38;5;28mself\u001b[39m):\n\u001b[0;32m    326\u001b[0m     \u001b[38;5;28mself\u001b[39m\u001b[38;5;241m.\u001b[39m_args_adjust()\n\u001b[1;32m--> 327\u001b[0m     \u001b[38;5;28;43mself\u001b[39;49m\u001b[38;5;241;43m.\u001b[39;49m\u001b[43m_compute_plot_data\u001b[49m\u001b[43m(\u001b[49m\u001b[43m)\u001b[49m\n\u001b[0;32m    328\u001b[0m     \u001b[38;5;28mself\u001b[39m\u001b[38;5;241m.\u001b[39m_setup_subplots()\n\u001b[0;32m    329\u001b[0m     \u001b[38;5;28mself\u001b[39m\u001b[38;5;241m.\u001b[39m_make_plot()\n",
      "File \u001b[1;32m~\\anaconda3\\lib\\site-packages\\pandas\\plotting\\_matplotlib\\core.py:506\u001b[0m, in \u001b[0;36mMPLPlot._compute_plot_data\u001b[1;34m(self)\u001b[0m\n\u001b[0;32m    504\u001b[0m \u001b[38;5;66;03m# no non-numeric frames or series allowed\u001b[39;00m\n\u001b[0;32m    505\u001b[0m \u001b[38;5;28;01mif\u001b[39;00m is_empty:\n\u001b[1;32m--> 506\u001b[0m     \u001b[38;5;28;01mraise\u001b[39;00m \u001b[38;5;167;01mTypeError\u001b[39;00m(\u001b[38;5;124m\"\u001b[39m\u001b[38;5;124mno numeric data to plot\u001b[39m\u001b[38;5;124m\"\u001b[39m)\n\u001b[0;32m    508\u001b[0m \u001b[38;5;28mself\u001b[39m\u001b[38;5;241m.\u001b[39mdata \u001b[38;5;241m=\u001b[39m numeric_data\u001b[38;5;241m.\u001b[39mapply(\u001b[38;5;28mself\u001b[39m\u001b[38;5;241m.\u001b[39m_convert_to_ndarray)\n",
      "\u001b[1;31mTypeError\u001b[0m: no numeric data to plot"
     ]
    },
    {
     "data": {
      "image/png": "[encoded data removed]",
      "text/plain": [
       "<Figure size 1080x360 with 1 Axes>"
      ]
     },
     "metadata": {
      "needs_background": "light"
     },
     "output_type": "display_data"
    }
   ],
   "source": [
    "#Graph with months\n",
    "for i in range(len(stations.stname)):\n",
    "    plt=hg_agi[stations.stname.iloc[i]].plot(kind='line',label=f'{stations.stname.iloc[i]}_agi',color= 'blue',figsize=(15,5))\n",
    "    plt.set_ylabel('Discharge')\n",
    "    plt.set_xlabel('Time')\n",
    "    # Minor ticks every month.\n",
    "    fmt_month = mdates.MonthLocator()\n",
    "    # Minor ticks every year.\n",
    "    fmt_year = mdates.YearLocator()\n",
    "    plt.xaxis.set_minor_locator(fmt_month)\n",
    "    # '%b' to get the names of the month\n",
    "    # '%m' to get months as number\n",
    "    plt.xaxis.set_minor_formatter(mdates.DateFormatter('%m'))\n",
    "    plt.xaxis.set_major_locator(fmt_year)\n",
    "    plt.xaxis.set_major_formatter(mdates.DateFormatter('%m'))\n",
    "\n",
    "    # fontsize for month labels\n",
    "    plt.tick_params(labelsize=8, which='both')\n",
    "    # create a second x-axis beneath the first x-axis to show the year in YYYY format\n",
    "    sec_xaxis = plt.secondary_xaxis(-0.1)\n",
    "    sec_xaxis.xaxis.set_major_locator(fmt_year)\n",
    "    sec_xaxis.xaxis.set_major_formatter(mdates.DateFormatter('%Y'))\n",
    "    plt.set_xlabel('Time')\n",
    "\n",
    "    ##start, end = plt.get_xlim()\n",
    "    ##plt.xaxis.set_ticks(np.arange(start, end))\n",
    "    plt.grid(zorder=0,linestyle='dotted', color='black')\n",
    "    #plt.patch.set_facecolor('xkcd:mint green')\n",
    "    plt.patch.set_facecolor(\"#B0EAAD\")\n",
    "    plt.legend()\n",
    "    plt.get_figure().savefig(f\"Plot_Antalya/{stations.stname.iloc[i]}.png\",bbox_inches='tight',facecolor=\"#B0EAAD\")\n",
    "    plt.cla()\n",
    "    # Blue for agi, orange for efas data"
   ]
  },
  {
   "cell_type": "code",
   "execution_count": null,
   "id": "9615c8d7",
   "metadata": {},
   "outputs": [],
   "source": []
  }
 ],
 "metadata": {
  "kernelspec": {
   "display_name": "Python 3 (ipykernel)",
   "language": "python",
   "name": "python3"
  },
  "language_info": {
   "codemirror_mode": {
    "name": "ipython",
    "version": 3
   },
   "file_extension": ".py",
   "mimetype": "text/x-python",
   "name": "python",
   "nbconvert_exporter": "python",
   "pygments_lexer": "ipython3",
   "version": "3.9.12"
  }
 },
 "nbformat": 4,
 "nbformat_minor": 5
}
